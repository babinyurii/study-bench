{
 "cells": [
  {
   "cell_type": "markdown",
   "metadata": {},
   "source": [
    "**tutorial is from here : **\n",
    "https://docs.python.org/3.6/howto/regex.html"
   ]
  },
  {
   "cell_type": "markdown",
   "metadata": {},
   "source": [
    "**here's a good guide : ** https://www.rexegg.com/"
   ]
  },
  {
   "cell_type": "markdown",
   "metadata": {},
   "source": [
    "# Using regular expression with `re` module"
   ]
  },
  {
   "cell_type": "markdown",
   "metadata": {},
   "source": [
    "Regular expression are tiny, highly specialized programming language\n",
    "embedded inside Python. They are also called REs, regexes or regex \n",
    "patterns.\n",
    "\n",
    "Using regexes you specify the rules for the set of possible strings \n",
    "that you want to match. You can then ask : 'Does this string match the pattern?' You can also use REs to modify a string or to split it apart it various ways.\n",
    "\n",
    "Regexes are compiled into a series of bytecodes which are then executed by a matching engine written in C. \n",
    "\n",
    "Regexes language is relatively small and restricted. So, not all possible string processing tasks can be done using them. There are also tasks that can be done with regexes, but the resulting expression turn out to be very complicated. In this case you may be better off writing some Python code to process the text. Although Python code will be slower than regexes, it will be more understandable.\n"
   ]
  },
  {
   "cell_type": "markdown",
   "metadata": {},
   "source": [
    "## Simple Patterns\n",
    "\n"
   ]
  },
  {
   "cell_type": "markdown",
   "metadata": {},
   "source": [
    "We'll begin with the most common task: matching characters.\n"
   ]
  },
  {
   "cell_type": "markdown",
   "metadata": {},
   "source": [
    "## Matching Characters"
   ]
  },
  {
   "cell_type": "markdown",
   "metadata": {},
   "source": [
    "Most letters and characters will simply match themselves. There are exceptions for this rule: some characters are special metacharacters. They don't match themselves. Instead, they signal that some out-of-the-ordinary thing should be matched, or they affect other portions of the regex by repeating them or changing their meaning.\n",
    "\n",
    "Here's a complete list of the metacharacters:\n",
    "\n",
    "`. ^ $ * + ? { } [ ] \\ | ( )` "
   ]
  },
  {
   "cell_type": "markdown",
   "metadata": {},
   "source": [
    "`[ ]` are used to specify a character class. It is a set of characters that you with to match. Characters can  be listed individually. To indicate a range of characters, we use two chars and separate them by `-`\n",
    "\n",
    "F.e. `[abc]` will match any of the characters `a`, `b` or `c`. \n",
    "This is the same as `[a-c]`. \n",
    "\n",
    "If you want to match only lowercase letters, your regex will be : `[a-z]`"
   ]
  },
  {
   "cell_type": "markdown",
   "metadata": {},
   "source": [
    "Metacharacters are not active inside classes. F.e. `[akm$]` will match any of the `a`, `k`, `m` or `$`. `$` is usually a metacharacter but inside a character class it's stripped of its special nature."
   ]
  },
  {
   "cell_type": "markdown",
   "metadata": {},
   "source": [
    "To match the characters not listed in the class, you should _complement_ the set. To do it, include `^` as the first character of the class. `^` outside a character class will simply match the `^` character. F.e., `[^5]` will match any character except `5`"
   ]
  },
  {
   "cell_type": "markdown",
   "metadata": {},
   "source": [
    "Perhaps the most important metacharacter is the backslash `\\`. It can be followed by various characters to signal various special sequences. It's also used to escape all  the metacharacters. So you can still match them in patterns. F.e. if you need to match a `[` or `\\`, you can precede them with a backslash : `\\[` or `\\\\` - it will remove their special meaning.\n",
    "\n"
   ]
  },
  {
   "cell_type": "markdown",
   "metadata": {},
   "source": [
    "Some of the sequences beginning with `\\` represent prefefined sets of characters.\n",
    "\n",
    "This list is not complete:\n",
    "\n",
    "`\\d` - any decimal digit, equals class: `[0-9`]\n",
    "\n",
    "`\\D` - any non-digit character, the same as class: `[^0-9]`\n",
    "\n",
    "`\\s` - any whitespace character, the same : `[\\t\\n\\r\\f\\v]`\n",
    "\n",
    "\n",
    "`\\S` - any non-whitespace character, the same: `[^\\t\\n\\r\\f\\v]`\n",
    "\n",
    "`\\w` - any alphanumeric character, the same : `[a-zA-Z0-9_]`\n",
    "\n",
    "`\\W` - any non-alphanumeric character, the same: `[^a-zA-Z0-9_]`\n",
    "\n",
    "\n",
    "These sequences can be included inside a character class. F.e. `[\\s,.]` will match any whitespace char or `,` or `.`\n",
    "\n",
    "\n",
    "The final metachracter in this section is : `.`.  It matches anything except a newline character. It's used where you want to match 'any character'\n",
    "\n",
    "\n",
    "\n",
    "\n",
    "\n",
    "\n",
    "\n",
    "\n",
    "\n",
    "\n",
    "\n",
    "\n",
    "\n",
    "\n",
    "\n",
    "\n",
    "\n",
    "\n",
    "\n",
    "\n",
    "\n",
    "\n",
    "\n",
    "\n",
    "\n",
    "\n"
   ]
  },
  {
   "cell_type": "markdown",
   "metadata": {},
   "source": [
    "## Repeating"
   ]
  },
  {
   "cell_type": "markdown",
   "metadata": {},
   "source": [
    "`*`  metacharacter says that previous char can be matched zero of more times, instead of exactly one.\n",
    "\n",
    "f.e. `ca*t` will match `ct` (0 `a` chars), `cat` (1 `a`), `caaat` (3 `a` chars), and so forth.\n",
    "\n",
    "Repetitions such as `*` are greedy. The matching engine will try to repeat as many times as possible. If later protions of the pattern don't match, the matching engine will then back up adn try again with fewer repetitiosns"
   ]
  },
  {
   "cell_type": "markdown",
   "metadata": {},
   "source": [
    "`+` is another repeating metachar. It matches one or more times. Minde the difference : `*` matches zero or more times, so whatever is repeated may not be present at all. `+` requires at least one occurence. \n",
    "\n",
    "`ca+t` will match `cat` (1 `a`), `caaat` (3 `a`), but won't match `ct`"
   ]
  },
  {
   "cell_type": "markdown",
   "metadata": {},
   "source": [
    "`?` matches once or zero times. It's like something is optional. \n",
    "f.e. `home-?brew` matches either `homebrew` or `home-brew`"
   ]
  },
  {
   "cell_type": "markdown",
   "metadata": {},
   "source": [
    "`{m, n}` is the most complicated.  _m_ and _n_ are decimal integers. There must be at least _m_ repeatitions and at most _n_. \n",
    "\n",
    "f.e. `a/{1,3}b` will match `a/b`, `a//b` and `a///b`. It won't match `ab` which has no slashes, or `a////b` which has four."
   ]
  },
  {
   "cell_type": "markdown",
   "metadata": {},
   "source": [
    "It you omin _m_ lowe limit is 0, while omitting _n_ results in an upper bound of infinity"
   ]
  },
  {
   "cell_type": "markdown",
   "metadata": {},
   "source": [
    "`{0,}` is the same as `*`\n",
    "\n",
    "`{1,}` is equivalent to `+`\n",
    "\n",
    "`{0,1}` is the same as `?`\n",
    "\n",
    "It's better to use `*`, `+` or `?` because they're shorter and easier to read."
   ]
  },
  {
   "cell_type": "markdown",
   "metadata": {},
   "source": [
    "# Using regular expression"
   ]
  },
  {
   "cell_type": "markdown",
   "metadata": {},
   "source": [
    "`re` module provides an interface to the regular expression engine. It allows to compile regexes into objects and then perform matches on them."
   ]
  },
  {
   "cell_type": "markdown",
   "metadata": {},
   "source": [
    "## Compiling Regular Expressions"
   ]
  },
  {
   "cell_type": "markdown",
   "metadata": {},
   "source": [
    "Regexes are compiled into pattern objects. These objects have methods for operations : f.e. searching for a pattern or substituting a string."
   ]
  },
  {
   "cell_type": "code",
   "execution_count": 1,
   "metadata": {},
   "outputs": [
    {
     "data": {
      "text/plain": [
       "re.compile(r'ab*', re.UNICODE)"
      ]
     },
     "execution_count": 1,
     "metadata": {},
     "output_type": "execute_result"
    }
   ],
   "source": [
    "import re\n",
    "p = re.compile('ab*')\n",
    "p"
   ]
  },
  {
   "cell_type": "markdown",
   "metadata": {},
   "source": [
    "```re.compile()``` also accepts optional flags. These flags enable various special features and syntax variations. We'll turn to the flags later but now the example will be :"
   ]
  },
  {
   "cell_type": "code",
   "execution_count": 2,
   "metadata": {},
   "outputs": [],
   "source": [
    "p = re.compile('ab*', re.IGNORECASE)"
   ]
  },
  {
   "cell_type": "markdown",
   "metadata": {},
   "source": [
    "regex is passed to ```re.compile()```as a string. Because regexes aren't a part of the core Python language. So, no special syntax was created for expressing them. Instead, ```re``` is simply a C extension included in Python, like ```socket``` or ```zlib```"
   ]
  },
  {
   "cell_type": "markdown",
   "metadata": {},
   "source": [
    "Putting regexes as strings keeps language simpler, but has one disadvantage which is the topic of the next section"
   ]
  },
  {
   "cell_type": "markdown",
   "metadata": {},
   "source": [
    "## The Backslah Plague"
   ]
  },
  {
   "cell_type": "markdown",
   "metadata": {},
   "source": [
    "As mentioned earlier, regexes use the baskslash char ```\\``` to indicate special forms or to allow special chars to be used without invoking their special meaning.  \n",
    "\n",
    "But this conflicts with Python's usage of the same char for the same purpose in string literals"
   ]
  },
  {
   "cell_type": "markdown",
   "metadata": {},
   "source": [
    "F.e. you want to write regex that matches the string ```\\section``` which might be found in LaTeX file. Start with  the desired string to be matched. Next, escape any backslashes and other metachars by backslashes : ```\\\\section```. However, to express this as a Python string literal, both backslashes must be escaped again."
   ]
  },
  {
   "cell_type": "markdown",
   "metadata": {},
   "source": [
    "| characters | Stage |\n",
    "| --- | --- |\n",
    "|```\\section```|Text string to be matched|\n",
    "|```\\\\section```|Escaped backslash for ```re.compile()```|\n",
    "|```\\\\\\\\section```|Escaped backslashes for a string literal|"
   ]
  },
  {
   "cell_type": "markdown",
   "metadata": {},
   "source": [
    "The solution is to use Python's raw string notation. In the string prefixed with ```r``` baskslashes are not handled in any special way. \n",
    "\n",
    "So, ```r\"\\n\"``` has two chars : ```\\``` and ```n```"
   ]
  },
  {
   "cell_type": "markdown",
   "metadata": {},
   "source": [
    "In addition, special escape sequences that are valid in regexes but not valid in Python now result in a ``` DeprecationWarning``` and become ```SyntaxError```. It means the sequence will be invalid if raw string notation or escaping the backslashes ins't used"
   ]
  },
  {
   "cell_type": "markdown",
   "metadata": {},
   "source": [
    "|Regular String | Raw string|\n",
    "|---|---|\n",
    "|```ab*```| ```ab*```|\n",
    "|```\\\\\\\\section``` |   ```r\\\\section```|\n",
    "|```\\\\w+\\\\s+\\\\1``` | ```r\\w+\\s+\\1``` |"
   ]
  },
  {
   "cell_type": "markdown",
   "metadata": {},
   "source": [
    "## Performing Matches"
   ]
  },
  {
   "cell_type": "markdown",
   "metadata": {},
   "source": [
    "Once you have an obj which represents a compiled regex, you can use methods and attributes. Most significant are :"
   ]
  },
  {
   "cell_type": "markdown",
   "metadata": {},
   "source": [
    "- ```match()``` - determine if regex matches at the beginning of the string\n",
    "- ```search()``` - scan through a string, looking for any location where this regex matches\n",
    "- ```findall()``` - find all substring where the regex matches, and returns them as a list\n",
    "- ```finditer()``` - find all substrings where the regex matches, and returns them as an iterator"
   ]
  },
  {
   "cell_type": "markdown",
   "metadata": {},
   "source": [
    "```match()``` and ```search()``` return ```None``` if no match found. If successful, a match object instance is returned. This match object contains information about the match : where it starts and ends, the substring it matched, and more"
   ]
  },
  {
   "cell_type": "code",
   "execution_count": 1,
   "metadata": {},
   "outputs": [
    {
     "data": {
      "text/plain": [
       "re.compile(r'[a-z]+', re.UNICODE)"
      ]
     },
     "execution_count": 1,
     "metadata": {},
     "output_type": "execute_result"
    }
   ],
   "source": [
    "import re\n",
    "p = re.compile('[a-z]+')\n",
    "p"
   ]
  },
  {
   "cell_type": "markdown",
   "metadata": {},
   "source": [
    "now you can match various strings agains regex ```[a-z]+```. An empty string shouldn't match at all, since ```+``` means 'one or more repetitions'. ```match()``` should return ```None``` in this case. "
   ]
  },
  {
   "cell_type": "code",
   "execution_count": 5,
   "metadata": {},
   "outputs": [
    {
     "name": "stdout",
     "output_type": "stream",
     "text": [
      "None\n"
     ]
    }
   ],
   "source": [
    "print(p.match(\"\"))"
   ]
  },
  {
   "cell_type": "markdown",
   "metadata": {},
   "source": [
    "now let's try a string that'll match :"
   ]
  },
  {
   "cell_type": "code",
   "execution_count": 7,
   "metadata": {},
   "outputs": [
    {
     "data": {
      "text/plain": [
       "<_sre.SRE_Match object; span=(0, 5), match='tempo'>"
      ]
     },
     "execution_count": 7,
     "metadata": {},
     "output_type": "execute_result"
    }
   ],
   "source": [
    "m = p.match('tempo')\n",
    "m"
   ]
  },
  {
   "cell_type": "markdown",
   "metadata": {},
   "source": [
    "now you can query match object for information about the matching string. Most important methods and attrs are :"
   ]
  },
  {
   "cell_type": "markdown",
   "metadata": {},
   "source": [
    "- ```group()``` - return the string matched by the regex\n",
    "- ```start()``` - return the starting position of the match\n",
    "- ```end()``` - return the ending position of the match\n",
    "- ```span()``` - return a tuple containing the (start, end) positions of the match"
   ]
  },
  {
   "cell_type": "markdown",
   "metadata": {},
   "source": [
    "Try these methods to clarify their meaning :"
   ]
  },
  {
   "cell_type": "code",
   "execution_count": 8,
   "metadata": {},
   "outputs": [
    {
     "data": {
      "text/plain": [
       "'tempo'"
      ]
     },
     "execution_count": 8,
     "metadata": {},
     "output_type": "execute_result"
    }
   ],
   "source": [
    "m.group()"
   ]
  },
  {
   "cell_type": "code",
   "execution_count": 9,
   "metadata": {},
   "outputs": [
    {
     "data": {
      "text/plain": [
       "(0, 5)"
      ]
     },
     "execution_count": 9,
     "metadata": {},
     "output_type": "execute_result"
    }
   ],
   "source": [
    "m.start(), m.end()"
   ]
  },
  {
   "cell_type": "code",
   "execution_count": 10,
   "metadata": {},
   "outputs": [
    {
     "data": {
      "text/plain": [
       "(0, 5)"
      ]
     },
     "execution_count": 10,
     "metadata": {},
     "output_type": "execute_result"
    }
   ],
   "source": [
    "m.span()"
   ]
  },
  {
   "cell_type": "markdown",
   "metadata": {},
   "source": [
    "```group()``` returns the substring that was matched by the regex.\n",
    "\n",
    "```start()``` and ```end()``` return the starting and ending index of the match.\n",
    "\n",
    "```span()``` returns both start and end in a single tuple. \n",
    "\n",
    "Since ```match()``` checks only if the regex matches at the start of the string, ```start()``` will always be zero. However, ```search()``` scans through the string, so the match may not start at zero in that case "
   ]
  },
  {
   "cell_type": "code",
   "execution_count": 11,
   "metadata": {},
   "outputs": [
    {
     "name": "stdout",
     "output_type": "stream",
     "text": [
      "None\n"
     ]
    }
   ],
   "source": [
    "print(p.match('::: message'))"
   ]
  },
  {
   "cell_type": "code",
   "execution_count": 12,
   "metadata": {},
   "outputs": [
    {
     "name": "stdout",
     "output_type": "stream",
     "text": [
      "<_sre.SRE_Match object; span=(4, 11), match='message'>\n"
     ]
    }
   ],
   "source": [
    "m = p.search('::: message'); print(m)"
   ]
  },
  {
   "cell_type": "code",
   "execution_count": 13,
   "metadata": {},
   "outputs": [
    {
     "data": {
      "text/plain": [
       "'message'"
      ]
     },
     "execution_count": 13,
     "metadata": {},
     "output_type": "execute_result"
    }
   ],
   "source": [
    "m.group()"
   ]
  },
  {
   "cell_type": "code",
   "execution_count": 14,
   "metadata": {},
   "outputs": [
    {
     "data": {
      "text/plain": [
       "(4, 11)"
      ]
     },
     "execution_count": 14,
     "metadata": {},
     "output_type": "execute_result"
    }
   ],
   "source": [
    "m.span()"
   ]
  },
  {
   "cell_type": "markdown",
   "metadata": {},
   "source": [
    "In actual programs, the most common style is to store the match object in a variable, and then check if it was ```None```. This usually looks like :"
   ]
  },
  {
   "cell_type": "code",
   "execution_count": 17,
   "metadata": {},
   "outputs": [
    {
     "name": "stdout",
     "output_type": "stream",
     "text": [
      "match found:  strings\n"
     ]
    }
   ],
   "source": [
    "p = re.compile('[a-z]+' )\n",
    "m = p.match('strings goes here')\n",
    "if m:\n",
    "    print('match found: ', m.group())\n",
    "else:\n",
    "    print('No match')"
   ]
  },
  {
   "cell_type": "markdown",
   "metadata": {},
   "source": [
    "```findall``` returns all the matches in a list :"
   ]
  },
  {
   "cell_type": "code",
   "execution_count": 18,
   "metadata": {},
   "outputs": [
    {
     "data": {
      "text/plain": [
       "['12', '11', '10']"
      ]
     },
     "execution_count": 18,
     "metadata": {},
     "output_type": "execute_result"
    }
   ],
   "source": [
    "p = re.compile(r'\\d+')\n",
    "p.findall('12 drummers drumming, 11 pipers piping, 10 lords \\\n",
    "a-leaping')"
   ]
  },
  {
   "cell_type": "markdown",
   "metadata": {},
   "source": [
    "The ```r``` prefix making the literal a raw string literal, is needed here as escape sequences in a normal \"cooked\" string literal that are not recognized by Python, as opposed to regexes, now result in a ```DeprecationWarning``` and become ```SyntaxError```"
   ]
  },
  {
   "cell_type": "markdown",
   "metadata": {},
   "source": [
    "```finditer()``` returns a sequence of match objects as an iterator :"
   ]
  },
  {
   "cell_type": "code",
   "execution_count": 19,
   "metadata": {},
   "outputs": [
    {
     "data": {
      "text/plain": [
       "<callable_iterator at 0x1c99ec70518>"
      ]
     },
     "execution_count": 19,
     "metadata": {},
     "output_type": "execute_result"
    }
   ],
   "source": [
    "iterator = p.finditer('12 drummes, 11 pipers, 10 lords...')\n",
    "iterator"
   ]
  },
  {
   "cell_type": "code",
   "execution_count": 20,
   "metadata": {},
   "outputs": [
    {
     "name": "stdout",
     "output_type": "stream",
     "text": [
      "(0, 2)\n",
      "(12, 14)\n",
      "(23, 25)\n"
     ]
    }
   ],
   "source": [
    "for match in iterator:\n",
    "    print(match.span())"
   ]
  },
  {
   "cell_type": "code",
   "execution_count": null,
   "metadata": {},
   "outputs": [],
   "source": []
  },
  {
   "cell_type": "code",
   "execution_count": null,
   "metadata": {},
   "outputs": [],
   "source": []
  },
  {
   "cell_type": "code",
   "execution_count": null,
   "metadata": {},
   "outputs": [],
   "source": []
  },
  {
   "cell_type": "code",
   "execution_count": null,
   "metadata": {},
   "outputs": [],
   "source": []
  },
  {
   "cell_type": "code",
   "execution_count": null,
   "metadata": {},
   "outputs": [],
   "source": []
  },
  {
   "cell_type": "code",
   "execution_count": null,
   "metadata": {},
   "outputs": [],
   "source": []
  },
  {
   "cell_type": "code",
   "execution_count": null,
   "metadata": {},
   "outputs": [],
   "source": []
  },
  {
   "cell_type": "code",
   "execution_count": null,
   "metadata": {},
   "outputs": [],
   "source": []
  },
  {
   "cell_type": "code",
   "execution_count": null,
   "metadata": {},
   "outputs": [],
   "source": []
  },
  {
   "cell_type": "code",
   "execution_count": null,
   "metadata": {},
   "outputs": [],
   "source": []
  },
  {
   "cell_type": "code",
   "execution_count": null,
   "metadata": {},
   "outputs": [],
   "source": []
  },
  {
   "cell_type": "code",
   "execution_count": null,
   "metadata": {},
   "outputs": [],
   "source": []
  },
  {
   "cell_type": "code",
   "execution_count": null,
   "metadata": {},
   "outputs": [],
   "source": []
  },
  {
   "cell_type": "code",
   "execution_count": null,
   "metadata": {},
   "outputs": [],
   "source": []
  },
  {
   "cell_type": "code",
   "execution_count": null,
   "metadata": {},
   "outputs": [],
   "source": []
  },
  {
   "cell_type": "code",
   "execution_count": null,
   "metadata": {},
   "outputs": [],
   "source": []
  }
 ],
 "metadata": {
  "kernelspec": {
   "display_name": "Python 3",
   "language": "python",
   "name": "python3"
  },
  "language_info": {
   "codemirror_mode": {
    "name": "ipython",
    "version": 3
   },
   "file_extension": ".py",
   "mimetype": "text/x-python",
   "name": "python",
   "nbconvert_exporter": "python",
   "pygments_lexer": "ipython3",
   "version": "3.6.5"
  }
 },
 "nbformat": 4,
 "nbformat_minor": 2
}
