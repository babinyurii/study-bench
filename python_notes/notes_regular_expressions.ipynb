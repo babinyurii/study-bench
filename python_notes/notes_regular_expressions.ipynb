{
 "cells": [
  {
   "cell_type": "markdown",
   "metadata": {},
   "source": [
    "# Using regular expression with `re` module"
   ]
  },
  {
   "cell_type": "markdown",
   "metadata": {},
   "source": [
    "Regular expression are tiny, highly specialized programming language\n",
    "embedded inside Python. They are also called REs, regexes or regex \n",
    "patterns.\n",
    "\n",
    "Using regexes you specify the rules for the set of possible strings \n",
    "that you want to match. You can then ask : 'Does this string match the pattern?' You can also use REs to modify a string or to split it apart it various ways.\n",
    "\n",
    "Regexes are compiled into a series of bytecodes which are then executed by a matching engine written in C. \n",
    "\n",
    "Regexes language is relatively small and restricted. So, not all possible string processing tasks can be done using them. There are also tasks that can be done with regexes, but the resulting expression turn out to be very complicated. In this case you may be better off writing some Python code to process the text. Although Python code will be slower than regexes, it will be more understandable.\n"
   ]
  },
  {
   "cell_type": "markdown",
   "metadata": {},
   "source": [
    "## Simple Patterns\n",
    "\n"
   ]
  },
  {
   "cell_type": "markdown",
   "metadata": {},
   "source": [
    "We'll begin with the most common task: matching characters.\n"
   ]
  },
  {
   "cell_type": "markdown",
   "metadata": {},
   "source": [
    "## Matching Characters"
   ]
  },
  {
   "cell_type": "markdown",
   "metadata": {},
   "source": [
    "Most letters and characters will simply match themselves. There are exceptions for this rule: some characters are special metacharacters. They don't match themselves. Instead, they signal that some out-of-the-ordinary thing should be matched, or they affect other portions of the regex by repeating them or changing their meaning.\n",
    "\n",
    "Here's a complete list of the metacharacters:\n",
    "\n",
    "`. ^ $ * + ? { } [ ] \\ | ( )` "
   ]
  },
  {
   "cell_type": "markdown",
   "metadata": {},
   "source": [
    "`[ ]` are used to specify a character class. It is a set of characters that you with to match. Characters can  be listed individually. To indicate a range of characters, we use two chars and separate them by `-`\n",
    "\n",
    "F.e. `[abc]` will match any of the characters `a`, `b` or `c`. \n",
    "This is the same as `[a-c]`. \n",
    "\n",
    "If you want to match only lowercase letters, your regex will be : `[a-z]`"
   ]
  },
  {
   "cell_type": "markdown",
   "metadata": {},
   "source": [
    "Metacharacters are not active inside classes. F.e. `[akm$]` will match any of the `a`, `k`, `m` or `$`. `$` is usually a metacharacter but inside a character class it's stripped of its special nature."
   ]
  },
  {
   "cell_type": "markdown",
   "metadata": {},
   "source": [
    "To match the characters not listed in the class, you should _complement_ the set. To do it, include `^` as the first character of the class. `^` outside a character class will simply match the `^` character. F.e., `[^5]` will match any character except `5`"
   ]
  },
  {
   "cell_type": "markdown",
   "metadata": {},
   "source": [
    "Perhaps the most important metacharacter is the backslash `\\`. It can be followed by various characters to signal various special sequences. It's also used to escape all  the metacharacters. So you can still match them in patterns. F.e. if you need to match a `[` or `\\`, you can precede them with a backslash : `\\[` or `\\\\` - it will remove their special meaning.\n",
    "\n"
   ]
  },
  {
   "cell_type": "markdown",
   "metadata": {},
   "source": [
    "Some of the sequences beginning with `\\` represent prefefined sets of characters.\n",
    "\n",
    "This list is not complete:\n",
    "\n",
    "`\\d` - any decimal digit, equals class: `[0-9`]\n",
    "\n",
    "`\\D` - any non-digit character, the same as class: `[^0-9]`\n",
    "\n",
    "`\\s` - any whitespace character, the same : `[\\t\\n\\r\\f\\v]`\n",
    "\n",
    "\n",
    "`\\S` - any non-whitespace character, the same: `[^\\t\\n\\r\\f\\v]`\n",
    "\n",
    "`\\w` - any alphanumeric character, the same : `[a-zA-Z0-9_]`\n",
    "\n",
    "`\\W` - any non-alphanumeric character, the same: `[^a-zA-Z0-9_]`\n",
    "\n",
    "\n",
    "These sequences can be included inside a character class. F.e. `[\\s,.]` will match any whitespace char or `,` or `.`\n",
    "\n",
    "\n",
    "The final metachracter in this section is : `.`.  It matches anything except a newline character. It's used where you want to match 'any character'\n",
    "\n",
    "\n",
    "\n",
    "\n",
    "\n",
    "\n",
    "\n",
    "\n",
    "\n",
    "\n",
    "\n",
    "\n",
    "\n",
    "\n",
    "\n",
    "\n",
    "\n",
    "\n",
    "\n",
    "\n",
    "\n",
    "\n",
    "\n",
    "\n",
    "\n",
    "\n"
   ]
  },
  {
   "cell_type": "markdown",
   "metadata": {},
   "source": [
    "## Repeating"
   ]
  },
  {
   "cell_type": "markdown",
   "metadata": {},
   "source": [
    "`*`  metacharacter says that previous char can be matched zero of more times, instead of exactly one.\n",
    "\n",
    "f.e. `ca*t` will match `ct` (0 `a` chars), `cat` (1 `a`), `caaat` (3 `a` chars), and so forth.\n",
    "\n",
    "Repetitions such as `*` are greedy. The matching engine will try to repeat as many times as possible. If later protions of the pattern don't match, the matching engine will then back up adn try again with fewer repetitiosns"
   ]
  },
  {
   "cell_type": "markdown",
   "metadata": {},
   "source": [
    "`+` is another repeating metachar. It matches one or more times. Minde the difference : `*` matches zero or more times, so whatever is repeated may not be present at all. `+` requires at least one occurence. \n",
    "\n",
    "`ca+t` will match `cat` (1 `a`), `caaat` (3 `a`), but won't match `ct`"
   ]
  },
  {
   "cell_type": "markdown",
   "metadata": {},
   "source": [
    "`?` matches once or zero times. It's like something is optional. \n",
    "f.e. `home-?brew` matches either `homebrew` or `home-brew`"
   ]
  },
  {
   "cell_type": "markdown",
   "metadata": {},
   "source": [
    "`{m, n}` is the most complicated.  _m_ and _n_ are decimal integers. There must be at least _m_ repeatitions and at most _n_. \n",
    "\n",
    "f.e. `a/{1,3}b` will match `a/b`, `a//b` and `a///b`. It won't match `ab` which has no slashes, or `a////b` which has four."
   ]
  },
  {
   "cell_type": "markdown",
   "metadata": {},
   "source": [
    "It you omin _m_ lowe limit is 0, while omitting _n_ results in an upper bound of infinity"
   ]
  },
  {
   "cell_type": "markdown",
   "metadata": {},
   "source": [
    "`{0,}` is the same as `*`\n",
    "\n",
    "`{1,}` is equivalent to `+`\n",
    "\n",
    "`{0,1}` is the same as `?`\n",
    "\n",
    "It's better to use `*`, `+` or `?` because they're shorter and easier to read."
   ]
  },
  {
   "cell_type": "markdown",
   "metadata": {},
   "source": [
    "# Using regular expression"
   ]
  },
  {
   "cell_type": "markdown",
   "metadata": {},
   "source": [
    "`re` module provides an interface to the regular expression engine. It allows to compile regexes into objects and then perform matches on them."
   ]
  },
  {
   "cell_type": "code",
   "execution_count": null,
   "metadata": {},
   "outputs": [],
   "source": []
  },
  {
   "cell_type": "code",
   "execution_count": null,
   "metadata": {},
   "outputs": [],
   "source": []
  },
  {
   "cell_type": "code",
   "execution_count": null,
   "metadata": {},
   "outputs": [],
   "source": []
  },
  {
   "cell_type": "code",
   "execution_count": null,
   "metadata": {},
   "outputs": [],
   "source": []
  },
  {
   "cell_type": "code",
   "execution_count": null,
   "metadata": {},
   "outputs": [],
   "source": []
  },
  {
   "cell_type": "code",
   "execution_count": null,
   "metadata": {},
   "outputs": [],
   "source": []
  },
  {
   "cell_type": "code",
   "execution_count": null,
   "metadata": {},
   "outputs": [],
   "source": []
  }
 ],
 "metadata": {
  "kernelspec": {
   "display_name": "Python 3",
   "language": "python",
   "name": "python3"
  },
  "language_info": {
   "codemirror_mode": {
    "name": "ipython",
    "version": 3
   },
   "file_extension": ".py",
   "mimetype": "text/x-python",
   "name": "python",
   "nbconvert_exporter": "python",
   "pygments_lexer": "ipython3",
   "version": "3.6.5"
  }
 },
 "nbformat": 4,
 "nbformat_minor": 2
}
