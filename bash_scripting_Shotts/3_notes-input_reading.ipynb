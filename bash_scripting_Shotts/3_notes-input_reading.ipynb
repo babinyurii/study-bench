{
 "cells": [
  {
   "cell_type": "markdown",
   "metadata": {},
   "source": [
    "### input data\n",
    "- ```read``` command\n",
    "- pattern : ```read [-parameters] [vars]```\n",
    "- ```-parameters``` one or more pars from the table : p. 389\n",
    "- ```vars``` one or more vars to store input data\n",
    "- if variables are not set, the input string is stored in the var ```REPLY```"
   ]
  },
  {
   "cell_type": "code",
   "execution_count": 13,
   "metadata": {},
   "outputs": [
    {
     "name": "stdout",
     "output_type": "stream",
     "text": [
      "Please enter an integer -> if [[ \"$int\" =~ ^-?[0-9]+$ ]]; then is positive\n"
     ]
    },
    {
     "name": "stderr",
     "output_type": "stream",
     "text": [
      "-bash: line 4: [: too many arguments\n",
      "-bash: line 7: [: too many arguments\n",
      "-bash: line 12: if [[ \"$int\" =~ ^-?[0-9]+$ ]]; then: syntax error: invalid arithmetic operator (error token is \"[[ \"$int\" =~ ^-?[0-9]+$ ]]; then\")\n",
      "-bash: line 13: syntax error near unexpected token `else'\n",
      "-bash: line 13: `else'\n"
     ]
    }
   ],
   "source": [
    "%%bash\n",
    "#!/bin/bash\n",
    "echo -n \"Please enter an integer -> \"\n",
    "read int \n",
    "if [[ \"$int\" =~ ^-?[0-9]+$ ]]; then\n",
    "        if [ $int -eq 0 ]; then\n",
    "                echo \"$int is zero\"\n",
    "        else\n",
    "                if [ $int -lt 0 ]; then\n",
    "                        echo \"$int is negative\"\n",
    "                else\n",
    "                        echo \"$int is positive\"\n",
    "                fi\n",
    "                if [ $((int % 2)) -eq 0 ]; then\n",
    "                        echo \"$int is even\"\n",
    "                else\n",
    "                        echo \"$int is odd\"\n",
    "                fi\n",
    "        fi\n",
    "else\n",
    "        echo \"Input value is not an integer\" >&2\n",
    "        exit 1\n",
    "fi"
   ]
  },
  {
   "cell_type": "code",
   "execution_count": null,
   "metadata": {},
   "outputs": [],
   "source": [
    "#!/bin/bash"
   ]
  },
  {
   "cell_type": "code",
   "execution_count": 2,
   "metadata": {},
   "outputs": [
    {
     "name": "stdout",
     "output_type": "stream",
     "text": [
      "Please enter an integer -> "
     ]
    }
   ],
   "source": [
    "%%bash\n",
    "#!/bin/bash\n",
    "echo -n \"Please enter an integer -> \"\n",
    "read int "
   ]
  },
  {
   "cell_type": "code",
   "execution_count": null,
   "metadata": {},
   "outputs": [],
   "source": []
  },
  {
   "cell_type": "code",
   "execution_count": null,
   "metadata": {},
   "outputs": [],
   "source": []
  },
  {
   "cell_type": "code",
   "execution_count": 16,
   "metadata": {},
   "outputs": [
    {
     "name": "stderr",
     "output_type": "stream",
     "text": [
      "UsageError: Cell magic `%%R` not found.\n"
     ]
    }
   ],
   "source": [
    "%%R\n",
    "x <- runif(10)\n",
    "y <- runif(10)"
   ]
  },
  {
   "cell_type": "code",
   "execution_count": null,
   "metadata": {},
   "outputs": [],
   "source": []
  },
  {
   "cell_type": "code",
   "execution_count": null,
   "metadata": {},
   "outputs": [],
   "source": []
  },
  {
   "cell_type": "code",
   "execution_count": null,
   "metadata": {},
   "outputs": [],
   "source": []
  },
  {
   "cell_type": "code",
   "execution_count": null,
   "metadata": {},
   "outputs": [],
   "source": []
  },
  {
   "cell_type": "code",
   "execution_count": null,
   "metadata": {},
   "outputs": [],
   "source": []
  }
 ],
 "metadata": {
  "kernelspec": {
   "display_name": "Python 3",
   "language": "python",
   "name": "python3"
  },
  "language_info": {
   "codemirror_mode": {
    "name": "ipython",
    "version": 3
   },
   "file_extension": ".py",
   "mimetype": "text/x-python",
   "name": "python",
   "nbconvert_exporter": "python",
   "pygments_lexer": "ipython3",
   "version": "3.6.5"
  }
 },
 "nbformat": 4,
 "nbformat_minor": 2
}
