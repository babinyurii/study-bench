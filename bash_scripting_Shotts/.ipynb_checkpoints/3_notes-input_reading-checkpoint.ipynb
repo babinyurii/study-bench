{
 "cells": [
  {
   "cell_type": "markdown",
   "metadata": {},
   "source": [
    "### input data\n",
    "- ```read``` command\n",
    "- pattern : ```read [-parameters] [vars]```\n",
    "- ```-parameters``` one or more pars from the table : p. 389\n",
    "- ```vars``` one or more vars to store input data\n",
    "- if variables are not set, the input string is stored in the var ```REPLY```"
   ]
  },
  {
   "cell_type": "markdown",
   "metadata": {},
   "source": [
    "- ```-n``` cuts ```\\n``` sign at the end of the line"
   ]
  },
  {
   "cell_type": "code",
   "execution_count": 13,
   "metadata": {},
   "outputs": [
    {
     "name": "stdout",
     "output_type": "stream",
     "text": [
      "Please enter an integer -> if [[ \"$int\" =~ ^-?[0-9]+$ ]]; then is positive\n"
     ]
    },
    {
     "name": "stderr",
     "output_type": "stream",
     "text": [
      "-bash: line 4: [: too many arguments\n",
      "-bash: line 7: [: too many arguments\n",
      "-bash: line 12: if [[ \"$int\" =~ ^-?[0-9]+$ ]]; then: syntax error: invalid arithmetic operator (error token is \"[[ \"$int\" =~ ^-?[0-9]+$ ]]; then\")\n",
      "-bash: line 13: syntax error near unexpected token `else'\n",
      "-bash: line 13: `else'\n"
     ]
    }
   ],
   "source": [
    "%%bash\n",
    "#!/bin/bash\n",
    "echo -n \"Please enter an integer -> \"\n",
    "read int \n",
    "if [[ \"$int\" =~ ^-?[0-9]+$ ]]; then\n",
    "        if [ $int -eq 0 ]; then\n",
    "                echo \"$int is zero\"\n",
    "        else\n",
    "                if [ $int -lt 0 ]; then\n",
    "                        echo \"$int is negative\"\n",
    "                else\n",
    "                        echo \"$int is positive\"\n",
    "                fi\n",
    "                if [ $((int % 2)) -eq 0 ]; then\n",
    "                        echo \"$int is even\"\n",
    "                else\n",
    "                        echo \"$int is odd\"\n",
    "                fi\n",
    "        fi\n",
    "else\n",
    "        echo \"Input value is not an integer\" >&2\n",
    "        exit 1\n",
    "fi"
   ]
  },
  {
   "cell_type": "markdown",
   "metadata": {},
   "source": [
    "** ```REPLY``` variable : **"
   ]
  },
  {
   "cell_type": "code",
   "execution_count": null,
   "metadata": {},
   "outputs": [],
   "source": [
    "echo -n \"Enter one or more values (reply demonstration) \"\n",
    "read\n",
    "echo \"REPLY = '$REPLY'\""
   ]
  },
  {
   "cell_type": "markdown",
   "metadata": {},
   "source": [
    "** ```read``` can take several vars at once **\n",
    "- if you pass one value, other vars will remain empty\n",
    "- if you pass more than one value, the last var will take all the additional values"
   ]
  },
  {
   "cell_type": "code",
   "execution_count": null,
   "metadata": {},
   "outputs": [],
   "source": [
    "#!/bin/bash\n",
    "echo -n \"Enter one or more values > \"\n",
    "read var1 var2 var3 var4 var5\n",
    "echo \"var1 = '$var1'\"\n",
    "echo \"var2 = '$var2'\"\n",
    "echo \"var3 = '$var3'\"\n",
    "echo \"var4 = '$var4'\"\n",
    "echo \"var5 = '$var5'\"\n"
   ]
  },
  {
   "cell_type": "markdown",
   "metadata": {},
   "source": [
    "** ```-p``` parameter is a prompt string **"
   ]
  },
  {
   "cell_type": "code",
   "execution_count": null,
   "metadata": {},
   "outputs": [],
   "source": [
    "read -p \"Enter one or more vars: >\"\n",
    "echo \"REPLY = '$REPLY'"
   ]
  },
  {
   "cell_type": "markdown",
   "metadata": {},
   "source": [
    "** - ```-t``` parameter : time in seconds to wait for Input**\n",
    "\n",
    "** - ```-s``` parameter : silent - don't show input chars**"
   ]
  },
  {
   "cell_type": "code",
   "execution_count": null,
   "metadata": {},
   "outputs": [],
   "source": [
    "\n",
    "\n",
    "if read -t 10 -sp \"Enter secret passphrase > \" secret_pass; then\n",
    "        echo -e \"\\nSecret passphrase = '$secret_pass'\"\n",
    "else\n",
    "        echo -e \"\\nInput timed out\" >&2\n",
    "        exit 1\n",
    "fi"
   ]
  },
  {
   "cell_type": "markdown",
   "metadata": {},
   "source": [
    "### IFS"
   ]
  },
  {
   "cell_type": "markdown",
   "metadata": {},
   "source": [
    "- ```IFS``` - International Field Separator. by default stores spaces, tabs and new line chars. These chars can be field separators.\n",
    "- if you change ```IFS``` value, you can pass then it to the ```read```, so that it could read data separated by a certain char"
   ]
  },
  {
   "cell_type": "markdown",
   "metadata": {},
   "source": [
    "```IFS=\":\" read user pw uid gid name home shell <<< \"$file_info\"```\n",
    "\n",
    "- we have this in one line, because all the changes will be restored to default, when you use this one-line command form\n",
    "- we can construct it differently, but keep in mind that we have to assign old value to IFS :"
   ]
  },
  {
   "cell_type": "code",
   "execution_count": null,
   "metadata": {},
   "outputs": [],
   "source": [
    "OLD_IFS=\"$IFS\"\n",
    "IFS=\":\"\n",
    "read user pw uid gid name home shell <<< \"$file_info\"\n",
    "IFS=\"$OLD_IFS\""
   ]
  },
  {
   "cell_type": "markdown",
   "metadata": {},
   "source": [
    "- we also use ```<<<```  which is ```here string```` : build-in string\n",
    "- it denotes built-in string to the end of the current line of code\n",
    "- here string from the the file /etc/passwd is given to the ```read``` and then assigned to the ```$file_info```\n"
   ]
  },
  {
   "cell_type": "code",
   "execution_count": null,
   "metadata": {},
   "outputs": [],
   "source": [
    "#!/bin/bash\n",
    "# reading lines from a file : IFS\n",
    "\n",
    "FILE=/etc/passwd\n",
    "\n",
    "read -p \" Enter a username > \" user_name\n",
    "\n",
    "file_info=$(grep \"^$user_name:\" $FILE)\n",
    "\n",
    "echo \"$file_info\"\n",
    "\n",
    "# -n checks if len of the string is non zero\n",
    "if [ -n \"$file_info\" ]; then \n",
    "        IFS=\":\" read user pw uid gid name home shell <<< \"$file_info\"\n",
    "        echo \"User = '$user'\"\n",
    "        echo \"UID = '$uid'\"\n",
    "        echo \"GID = '$gid'\"\n",
    "        echo \"Full Name = '$name'\"\n",
    "        echo \"Home Dir. = '$home'\"\n",
    "        echo \"Shell = '$shell'\"\n",
    "else\n",
    "        echo \"No such user '$user_name'\" >&2\n",
    "        exit 1\n",
    "fi"
   ]
  },
  {
   "cell_type": "markdown",
   "metadata": {},
   "source": []
  },
  {
   "cell_type": "code",
   "execution_count": null,
   "metadata": {},
   "outputs": [],
   "source": []
  },
  {
   "cell_type": "code",
   "execution_count": null,
   "metadata": {},
   "outputs": [],
   "source": []
  },
  {
   "cell_type": "code",
   "execution_count": 5,
   "metadata": {
    "scrolled": false
   },
   "outputs": [
    {
     "name": "stdout",
     "output_type": "stream",
     "text": [
      "TEST(1)                                             User Commands                                             TEST(1)\n",
      "\n",
      "NAME\n",
      "       test - check file types and compare values\n",
      "\n",
      "SYNOPSIS\n",
      "       test EXPRESSION\n",
      "       test\n",
      "\n",
      "       [ EXPRESSION ]\n",
      "       [ ]\n",
      "       [ OPTION\n",
      "\n",
      "DESCRIPTION\n",
      "       Exit with the status determined by EXPRESSION.\n",
      "\n",
      "       --help display this help and exit\n",
      "\n",
      "       --version\n",
      "              output version information and exit\n",
      "\n",
      "       An  omitted EXPRESSION defaults to false.  Otherwise, EXPRESSION is true or false and sets exit status.  It is\n",
      "       one of:\n",
      "\n",
      "       ( EXPRESSION )\n",
      "              EXPRESSION is true\n",
      "\n",
      "       ! EXPRESSION\n",
      "              EXPRESSION is false\n",
      "\n",
      "       EXPRESSION1 -a EXPRESSION2\n",
      "              both EXPRESSION1 and EXPRESSION2 are true\n",
      "\n",
      "       EXPRESSION1 -o EXPRESSION2\n",
      "              either EXPRESSION1 or EXPRESSION2 is true\n",
      "\n",
      "       -n STRING\n",
      "              the length of STRING is nonzero\n",
      "\n",
      "       STRING equivalent to -n STRING\n",
      "\n",
      "       -z STRING\n",
      "              the length of STRING is zero\n",
      "\n",
      "       STRING1 = STRING2\n",
      "              the strings are equal\n",
      "\n",
      "       STRING1 != STRING2\n",
      "              the strings are not equal\n",
      "\n",
      "       INTEGER1 -eq INTEGER2\n",
      "              INTEGER1 is equal to INTEGER2\n",
      "\n",
      "       INTEGER1 -ge INTEGER2\n",
      "              INTEGER1 is greater than or equal to INTEGER2\n",
      "\n",
      "       INTEGER1 -gt INTEGER2\n",
      "              INTEGER1 is greater than INTEGER2\n",
      "\n",
      "       INTEGER1 -le INTEGER2\n",
      "              INTEGER1 is less than or equal to INTEGER2\n",
      "\n",
      "       INTEGER1 -lt INTEGER2\n",
      "              INTEGER1 is less than INTEGER2\n",
      "\n",
      "       INTEGER1 -ne INTEGER2\n",
      "              INTEGER1 is not equal to INTEGER2\n",
      "\n",
      "       FILE1 -ef FILE2\n",
      "              FILE1 and FILE2 have the same device and inode numbers\n",
      "\n",
      "       FILE1 -nt FILE2\n",
      "              FILE1 is newer (modification date) than FILE2\n",
      "\n",
      "       FILE1 -ot FILE2\n",
      "              FILE1 is older than FILE2\n",
      "\n",
      "       -b FILE\n",
      "              FILE exists and is block special\n",
      "\n",
      "       -c FILE\n",
      "              FILE exists and is character special\n",
      "\n",
      "       -d FILE\n",
      "              FILE exists and is a directory\n",
      "\n",
      "       -e FILE\n",
      "              FILE exists\n",
      "\n",
      "       -f FILE\n",
      "              FILE exists and is a regular file\n",
      "\n",
      "       -g FILE\n",
      "              FILE exists and is set-group-ID\n",
      "\n",
      "       -G FILE\n",
      "              FILE exists and is owned by the effective group ID\n",
      "\n",
      "       -h FILE\n",
      "              FILE exists and is a symbolic link (same as -L)\n",
      "\n",
      "       -k FILE\n",
      "              FILE exists and has its sticky bit set\n",
      "\n",
      "       -L FILE\n",
      "              FILE exists and is a symbolic link (same as -h)\n",
      "\n",
      "       -O FILE\n",
      "              FILE exists and is owned by the effective user ID\n",
      "\n",
      "       -p FILE\n",
      "              FILE exists and is a named pipe\n",
      "\n",
      "       -r FILE\n",
      "              FILE exists and read permission is granted\n",
      "\n",
      "       -s FILE\n",
      "              FILE exists and has a size greater than zero\n",
      "\n",
      "       -S FILE\n",
      "              FILE exists and is a socket\n",
      "\n",
      "       -t FD  file descriptor FD is opened on a terminal\n",
      "\n",
      "       -u FILE\n",
      "              FILE exists and its set-user-ID bit is set\n",
      "\n",
      "       -w FILE\n",
      "              FILE exists and write permission is granted\n",
      "\n",
      "       -x FILE\n",
      "              FILE exists and execute (or search) permission is granted\n",
      "\n",
      "       Except for -h and -L, all FILE-related tests dereference symbolic links.  Beware that parentheses need  to  be\n",
      "       escaped  (e.g.,  by  backslashes) for shells.  INTEGER may also be -l STRING, which evaluates to the length of\n",
      "       STRING.\n",
      "\n",
      "       NOTE: Binary -a and -o are inherently ambiguous.  Use 'test EXPR1 && test EXPR2' or 'test EXPR1 || test EXPR2'\n",
      "       instead.\n",
      "\n",
      "       NOTE:  [  honors  the --help and --version options, but test does not.  test treats each of those as it treats\n",
      "       any other nonempty STRING.\n",
      "\n",
      "       NOTE: your shell may have its own version of test and/or [, which usually  supersedes  the  version  described\n",
      "       here.  Please refer to your shell's documentation for details about the options it supports.\n",
      "\n",
      "AUTHOR\n",
      "       Written by Kevin Braunsdorf and Matthew Bradburn.\n",
      "\n",
      "REPORTING BUGS\n",
      "       GNU coreutils online help: <http://www.gnu.org/software/coreutils/>\n",
      "       Report [ translation bugs to <http://translationproject.org/team/>\n",
      "\n",
      "COPYRIGHT\n",
      "       Copyright   В©   2017   Free   Software   Foundation,  Inc.   License  GPLv3+:  GNU  GPL  version  3  or  later\n",
      "       <http://gnu.org/licenses/gpl.html>.\n",
      "       This is free software: you are free to change and redistribute it.  There is NO WARRANTY, to the  extent  perвЂђ\n",
      "       mitted by law.\n",
      "\n",
      "SEE ALSO\n",
      "       Full documentation at: <http://www.gnu.org/software/coreutils/[>\n",
      "       or available locally via: info '(coreutils) test invocation'\n",
      "\n",
      "GNU coreutils 8.28                                   January 2018                                             TEST(1)\n"
     ]
    }
   ],
   "source": [
    "%%bash \n",
    "man test\n"
   ]
  },
  {
   "cell_type": "code",
   "execution_count": null,
   "metadata": {},
   "outputs": [],
   "source": []
  }
 ],
 "metadata": {
  "kernelspec": {
   "display_name": "Python 3",
   "language": "python",
   "name": "python3"
  },
  "language_info": {
   "codemirror_mode": {
    "name": "ipython",
    "version": 3
   },
   "file_extension": ".py",
   "mimetype": "text/x-python",
   "name": "python",
   "nbconvert_exporter": "python",
   "pygments_lexer": "ipython3",
   "version": "3.6.5"
  }
 },
 "nbformat": 4,
 "nbformat_minor": 2
}
