{
 "cells": [
  {
   "cell_type": "code",
   "execution_count": 1,
   "metadata": {},
   "outputs": [
    {
     "name": "stdout",
     "output_type": "stream",
     "text": [
      "\n",
      "$0 = -bash\n",
      "$1 = \n",
      "$2 = \n",
      "$3 = \n",
      "$4 = \n",
      "$5 = \n",
      "$6 = \n",
      "$7 = \n",
      "$8 = \n",
      "$9 = \n",
      "\n"
     ]
    }
   ],
   "source": [
    "%%bash\n",
    "#!/bin/bash\n",
    "\n",
    "echo \"\n",
    "\\$0 = $0\n",
    "\\$1 = $1\n",
    "\\$2 = $2\n",
    "\\$3 = $3\n",
    "\\$4 = $4\n",
    "\\$5 = $5\n",
    "\\$6 = $6\n",
    "\\$7 = $7\n",
    "\\$8 = $8\n",
    "\\$9 = $9\n",
    "\""
   ]
  },
  {
   "cell_type": "code",
   "execution_count": null,
   "metadata": {},
   "outputs": [],
   "source": []
  }
 ],
 "metadata": {
  "kernelspec": {
   "display_name": "Python 3",
   "language": "python",
   "name": "python3"
  },
  "language_info": {
   "codemirror_mode": {
    "name": "ipython",
    "version": 3
   },
   "file_extension": ".py",
   "mimetype": "text/x-python",
   "name": "python",
   "nbconvert_exporter": "python",
   "pygments_lexer": "ipython3",
   "version": "3.6.5"
  }
 },
 "nbformat": 4,
 "nbformat_minor": 2
}
