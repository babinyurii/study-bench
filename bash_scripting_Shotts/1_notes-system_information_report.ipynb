{
 "cells": [
  {
   "cell_type": "code",
   "execution_count": 1,
   "metadata": {},
   "outputs": [
    {
     "name": "stdout",
     "output_type": "stream",
     "text": [
      "Hello world!\n"
     ]
    }
   ],
   "source": [
    "%%bash\n",
    "\n",
    "#!/bin/bash\n",
    "\n",
    "echo Hello world!\n"
   ]
  },
  {
   "cell_type": "code",
   "execution_count": 2,
   "metadata": {},
   "outputs": [
    {
     "name": "stdout",
     "output_type": "stream",
     "text": [
      "/usr/local/sbin:/usr/local/bin:/usr/sbin:/usr/bin:/sbin:/bin:/usr/games:/usr/local/games:/mnt/c/Anaconda:/mnt/c/Anaconda/Library/mingw-w64/bin:/mnt/c/Anaconda/Library/bin:/mnt/c/Anaconda/Scripts:/mnt/c/Anaconda:/mnt/c/Anaconda/Library/mingw-w64/bin:/mnt/c/Anaconda/Library/bin:/mnt/c/Anaconda/Scripts:/mnt/c/Anaconda/Library/bin:/mnt/c/Program Files (x86)/Common Files/Oracle/Java/javapath_target_99222546:/mnt/c/Program Files (x86)/Intel/iCLS Client:/mnt/c/Program Files/Intel/iCLS Client:/mnt/c/Windows/System32:/mnt/c/Windows:/mnt/c/Windows/System32/wbem:/mnt/c/Windows/System32/WindowsPowerShell/v1.0:/mnt/c/Program Files (x86)/Intel/Intel(R) Management Engine Components/DAL:/mnt/c/Program Files/Intel/Intel(R) Management Engine Components/DAL:/mnt/c/Program Files (x86)/Intel/Intel(R) Management Engine Components/IPT:/mnt/c/Program Files/Intel/Intel(R) Management Engine Components/IPT:/mnt/c/Program Files/MEGA-X:/mnt/c/Users/babin.PCR_INT/AppData/Local/Microsoft/WindowsApps:/mnt/c/Program Files/Microsoft VS Code/bin:/mnt/c/Anaconda:/mnt/c/Anaconda/Scripts:/mnt/c/Users/babin.PCR_INT/AppData/Local/GitHubDesktop/bin:/snap/bin\n"
     ]
    }
   ],
   "source": [
    "%%bash\n",
    "\n",
    "echo $PATH"
   ]
  },
  {
   "cell_type": "markdown",
   "metadata": {},
   "source": [
    "**creating pattern for report : **"
   ]
  },
  {
   "cell_type": "code",
   "execution_count": 9,
   "metadata": {},
   "outputs": [
    {
     "name": "stdout",
     "output_type": "stream",
     "text": [
      "<HTML>\n",
      "        <HEAD>\n",
      "                <TITLE>System Information Report</TITLE>\n",
      "        </HEAD>\n",
      "        <BODY>\n",
      "                <H1>System Information Report</H1>\n",
      "                Page body\n",
      "        </BODY>\n",
      "</HTML>\n"
     ]
    }
   ],
   "source": [
    "%%bash\n",
    "\n",
    "#!/bin/bash\n",
    "\n",
    "#script to show system report\n",
    "\n",
    "echo \"<HTML>\n",
    "        <HEAD>\n",
    "                <TITLE>System Information Report</TITLE>\n",
    "        </HEAD>\n",
    "        <BODY>\n",
    "                <H1>System Information Report</H1>\n",
    "                Page body\n",
    "        </BODY>\n",
    "</HTML>\""
   ]
  },
  {
   "cell_type": "markdown",
   "metadata": {},
   "source": [
    "**addign variables. String ```System Information Report``` is repeated, so we add a variable to contain this string : **"
   ]
  },
  {
   "cell_type": "code",
   "execution_count": 10,
   "metadata": {},
   "outputs": [
    {
     "name": "stdout",
     "output_type": "stream",
     "text": [
      "<HTML>\n",
      "        <HEAD>\n",
      "                <TITLE>System Information Report</TITLE>\n",
      "        </HEAD>\n",
      "        <BODY>\n",
      "                <H1>System Information Report</H1>\n",
      "                Page body\n",
      "        </BODY>\n",
      "</HTML>\n"
     ]
    }
   ],
   "source": [
    "%%bash\n",
    "\n",
    "#!/bin/bash\n",
    "\n",
    "#script to show system report\n",
    "\n",
    "title=\"System Information Report\"\n",
    "\n",
    "\n",
    "echo \"<HTML>\n",
    "        <HEAD>\n",
    "                <TITLE>$title</TITLE>\n",
    "        </HEAD>\n",
    "        <BODY>\n",
    "                <H1>$title</H1>\n",
    "                Page body\n",
    "        </BODY>\n",
    "</HTML>\""
   ]
  },
  {
   "cell_type": "markdown",
   "metadata": {},
   "source": [
    "**let's make variable ```title``` constant **\n",
    "- It just convention. ```bash``` can't tell variable from constant. \n",
    "- Constant should be in uppercase. \n",
    "- Constant in contrast to variable can't be changed\n",
    "\n",
    "- there must not be spaces around ```=``` operator\n",
    "\n",
    "at the same time we use ```$HOSTNAME``` to show network pc name"
   ]
  },
  {
   "cell_type": "code",
   "execution_count": 14,
   "metadata": {},
   "outputs": [
    {
     "name": "stdout",
     "output_type": "stream",
     "text": [
      "<HTML>\n",
      "        <HEAD>\n",
      "                <TITLE>System Information Report for SCE20209</TITLE>\n",
      "        </HEAD>\n",
      "        <BODY>\n",
      "                <H1>System Information Report for SCE20209</H1>\n",
      "                Page body\n",
      "        </BODY>\n",
      "</HTML>\n"
     ]
    }
   ],
   "source": [
    "%%bash\n",
    "\n",
    "#!/bin/bash\n",
    "\n",
    "#script to show system report\n",
    "\n",
    "TITLE=\"System Information Report for $HOSTNAME\"\n",
    "\n",
    "\n",
    "echo \"<HTML>\n",
    "        <HEAD>\n",
    "                <TITLE>$TITLE</TITLE>\n",
    "        </HEAD>\n",
    "        <BODY>\n",
    "                <H1>$TITLE</H1>\n",
    "                Page body\n",
    "        </BODY>\n",
    "</HTML>\""
   ]
  },
  {
   "cell_type": "markdown",
   "metadata": {},
   "source": [
    "**```bash``` don't care about the variable type. It interpretes every value as a string **\n"
   ]
  },
  {
   "cell_type": "markdown",
   "metadata": {},
   "source": [
    "**examples of assigning values : **"
   ]
  },
  {
   "cell_type": "markdown",
   "metadata": {},
   "source": [
    "**string :**"
   ]
  },
  {
   "cell_type": "code",
   "execution_count": 15,
   "metadata": {},
   "outputs": [
    {
     "name": "stdout",
     "output_type": "stream",
     "text": [
      "z\n"
     ]
    }
   ],
   "source": [
    "%%bash\n",
    "\n",
    "a=z\n",
    "echo $a"
   ]
  },
  {
   "cell_type": "markdown",
   "metadata": {},
   "source": [
    "**inner spaces must be in quot signs : **"
   ]
  },
  {
   "cell_type": "code",
   "execution_count": 18,
   "metadata": {},
   "outputs": [
    {
     "name": "stdout",
     "output_type": "stream",
     "text": [
      "\n"
     ]
    }
   ],
   "source": [
    "%%bash\n",
    "\n",
    "b=\"a string\"\n",
    "echo $a"
   ]
  },
  {
   "cell_type": "markdown",
   "metadata": {},
   "source": [
    "**adding anoter var name : **"
   ]
  },
  {
   "cell_type": "code",
   "execution_count": 20,
   "metadata": {},
   "outputs": [
    {
     "name": "stdout",
     "output_type": "stream",
     "text": [
      "a string and a string\n"
     ]
    }
   ],
   "source": [
    "%%bash\n",
    "\n",
    "b='a string'\n",
    "c=\"a string and $b\"\n",
    "echo $c"
   ]
  },
  {
   "cell_type": "markdown",
   "metadata": {},
   "source": [
    "**command exection result substition : **"
   ]
  },
  {
   "cell_type": "code",
   "execution_count": 25,
   "metadata": {},
   "outputs": [
    {
     "name": "stdout",
     "output_type": "stream",
     "text": [
      "total 12 -rwxrwxrwx 1 root root 8257 Dec 23 15:00 Untitled.ipynb -rwxrwxrwx 1 root root 16 Dec 23 14:32 script_1.sh\n"
     ]
    }
   ],
   "source": [
    "%%bash\n",
    "\n",
    "d=$(ls -l)\n",
    "echo $d"
   ]
  },
  {
   "cell_type": "markdown",
   "metadata": {},
   "source": [
    "**math operation substition : **"
   ]
  },
  {
   "cell_type": "code",
   "execution_count": 28,
   "metadata": {},
   "outputs": [
    {
     "name": "stdout",
     "output_type": "stream",
     "text": [
      "35\n"
     ]
    }
   ],
   "source": [
    "%%bash\n",
    "\n",
    "e=$((5 * 7))\n",
    "echo $e"
   ]
  },
  {
   "cell_type": "code",
   "execution_count": null,
   "metadata": {},
   "outputs": [],
   "source": []
  },
  {
   "cell_type": "code",
   "execution_count": 30,
   "metadata": {},
   "outputs": [
    {
     "name": "stdout",
     "output_type": "stream",
     "text": [
      "\\t\\ta stging\\n\n"
     ]
    }
   ],
   "source": [
    "%%bash\n",
    "\n",
    "f=\"\\t\\ta stging\\n\"\n",
    "echo $f"
   ]
  },
  {
   "cell_type": "markdown",
   "metadata": {},
   "source": [
    "**you can assing several vars in one string : **"
   ]
  },
  {
   "cell_type": "code",
   "execution_count": 32,
   "metadata": {},
   "outputs": [
    {
     "name": "stdout",
     "output_type": "stream",
     "text": [
      "5 string\n"
     ]
    }
   ],
   "source": [
    "%%bash\n",
    "a=5 b='string'\n",
    "\n",
    "echo $a $b"
   ]
  },
  {
   "cell_type": "markdown",
   "metadata": {},
   "source": [
    "** you should put ```{}``` around variable name, if it's lost in context **"
   ]
  },
  {
   "cell_type": "code",
   "execution_count": 34,
   "metadata": {
    "scrolled": true
   },
   "outputs": [
    {
     "name": "stderr",
     "output_type": "stream",
     "text": [
      "mv: missing destination file operand after 'my_file'\n",
      "Try 'mv --help' for more information.\n"
     ]
    }
   ],
   "source": [
    "%%bash\n",
    "filename=\"my_file\"\n",
    "touch $filename #creating file\n",
    "mv $filename $filename1"
   ]
  },
  {
   "cell_type": "code",
   "execution_count": 36,
   "metadata": {},
   "outputs": [],
   "source": [
    "%%bash\n",
    "filename=\"my_file\"\n",
    "touch $filename #creating file\n",
    "mv $filename ${filename}1 #separating name with {}"
   ]
  },
  {
   "cell_type": "code",
   "execution_count": null,
   "metadata": {},
   "outputs": [],
   "source": []
  },
  {
   "cell_type": "markdown",
   "metadata": {},
   "source": [
    "**now let's modify our script. we'll add some more vars by substition**\n",
    "- adding result of ```date``` command"
   ]
  },
  {
   "cell_type": "code",
   "execution_count": 42,
   "metadata": {},
   "outputs": [
    {
     "name": "stdout",
     "output_type": "stream",
     "text": [
      "<HTML>\n",
      "        <HEAD>\n",
      "                <TITLE>System Information Report for SCE20209</TITLE>\n",
      "        </HEAD>\n",
      "        <BODY>\n",
      "                <H1>System Information Report for SCE20209</H1>\n",
      "                <P>Generated 12/23/18 03:13:19 PM STD, by yuriy</P>\n",
      "        </BODY>\n",
      "</HTML>\n"
     ]
    }
   ],
   "source": [
    "%%bash\n",
    "\n",
    "#!/bin/bash\n",
    "\n",
    "#script to show system report\n",
    "\n",
    "TITLE=\"System Information Report for $HOSTNAME\"\n",
    "CURRENT_TIME=$(date +\"%x %r %Z\") \n",
    "TIME_STAMP=\"Generated $CURRENT_TIME, by $USER\"\n",
    "\n",
    "\n",
    "echo \"<HTML>\n",
    "        <HEAD>\n",
    "                <TITLE>$TITLE</TITLE>\n",
    "        </HEAD>\n",
    "        <BODY>\n",
    "                <H1>$TITLE</H1>\n",
    "                <P>$TIME_STAMP</P>\n",
    "        </BODY>\n",
    "</HTML>\""
   ]
  },
  {
   "cell_type": "markdown",
   "metadata": {},
   "source": [
    "**here document **\n",
    "\n",
    "- it's a form of redirecting input/output\n",
    "- takes the text from script and passes it to the standard input\n",
    "\n",
    "**pattern: **\n",
    "\n",
    "command << indicator\n",
    "\n",
    "text\n",
    "\n",
    "indicator\n",
    "\n",
    "command - the program which takes the text by the standard input\n",
    "indicator - marks the end of th text"
   ]
  },
  {
   "cell_type": "markdown",
   "metadata": {},
   "source": [
    "let's modify our script with here document \n",
    "- now we don't need quot signs : they lost there special meaning for shell. Now ```bash``` will interpret them as just chars\n",
    "- we use ```cat``` command\n",
    "\n",
    "```indicator _EOF_``` must be on a separate string and must not be followed by any spaces"
   ]
  },
  {
   "cell_type": "code",
   "execution_count": 1,
   "metadata": {},
   "outputs": [
    {
     "name": "stdout",
     "output_type": "stream",
     "text": [
      "<HTML>\n",
      "        <HEAD>\n",
      "                <TITLE>System Information Report for SCE20209</TITLE>\n",
      "        </HEAD>\n",
      "        <BODY>\n",
      "                <H1>System Information Report for SCE20209</H1>\n",
      "                <P>Generated 12/24/18 05:20:46 PM STD, by yuriy</P>\n",
      "        </BODY>\n",
      "</HTML>\n"
     ]
    }
   ],
   "source": [
    "%%bash\n",
    "\n",
    "#!/bin/bash\n",
    "\n",
    "#script to show system report\n",
    "\n",
    "TITLE=\"System Information Report for $HOSTNAME\"\n",
    "CURRENT_TIME=$(date +\"%x %r %Z\") \n",
    "TIME_STAMP=\"Generated $CURRENT_TIME, by $USER\"\n",
    "\n",
    "\n",
    "cat << _EOF_\n",
    "<HTML>\n",
    "        <HEAD>\n",
    "                <TITLE>$TITLE</TITLE>\n",
    "        </HEAD>\n",
    "        <BODY>\n",
    "                <H1>$TITLE</H1>\n",
    "                <P>$TIME_STAMP</P>\n",
    "        </BODY>\n",
    "</HTML>\n",
    "_EOF_"
   ]
  },
  {
   "cell_type": "markdown",
   "metadata": {},
   "source": [
    "## functions "
   ]
  },
  {
   "cell_type": "markdown",
   "metadata": {},
   "source": [
    "they have two patterns :\n",
    "\n",
    "function name {\n",
    "        \n",
    "        commands\n",
    "        \n",
    "        return\n",
    "        \n",
    "}\n",
    "\n",
    "\n",
    "name () {\n",
    "        \n",
    "        commands\n",
    "        \n",
    "        return\n",
    "}"
   ]
  },
  {
   "cell_type": "code",
   "execution_count": 3,
   "metadata": {},
   "outputs": [
    {
     "name": "stdout",
     "output_type": "stream",
     "text": [
      "step 1\n",
      "Step 2\n",
      "step 3\n"
     ]
    }
   ],
   "source": [
    "%%bash\n",
    "\n",
    "#!/bin/bash\n",
    "\n",
    "function funct {\n",
    "        echo \"Step 2\"\n",
    "        return\n",
    "}\n",
    "\n",
    "echo 'step 1'\n",
    "funct         # fucntion call\n",
    "echo 'step 3'"
   ]
  },
  {
   "cell_type": "markdown",
   "metadata": {},
   "source": [
    "**let's add placeholder function into our script **"
   ]
  },
  {
   "cell_type": "code",
   "execution_count": 4,
   "metadata": {},
   "outputs": [
    {
     "name": "stdout",
     "output_type": "stream",
     "text": [
      "<HTML>\n",
      "        <HEAD>\n",
      "                <TITLE>System Information Report for SCE20209</TITLE>\n",
      "        </HEAD>\n",
      "        <BODY>\n",
      "                <H1>System Information Report for SCE20209</H1>\n",
      "                <P>Generated 12/24/18 05:32:46 PM STD, by yuriy</P>\n",
      "        </BODY>\n",
      "</HTML>\n"
     ]
    }
   ],
   "source": [
    "%%bash\n",
    "\n",
    "#!/bin/bash\n",
    "\n",
    "#script to show system report\n",
    "\n",
    "TITLE=\"System Information Report for $HOSTNAME\"\n",
    "CURRENT_TIME=$(date +\"%x %r %Z\") \n",
    "TIME_STAMP=\"Generated $CURRENT_TIME, by $USER\"\n",
    "\n",
    "\n",
    "report_uptime () {\n",
    "        return\n",
    "}\n",
    "\n",
    "report_disk_space () {\n",
    "        return\n",
    "}\n",
    "\n",
    "\n",
    "report_home_space () {\n",
    "        return\n",
    "}\n",
    "\n",
    "\n",
    "\n",
    "\n",
    "cat << _EOF_\n",
    "<HTML>\n",
    "        <HEAD>\n",
    "                <TITLE>$TITLE</TITLE>\n",
    "        </HEAD>\n",
    "        <BODY>\n",
    "                <H1>$TITLE</H1>\n",
    "                <P>$TIME_STAMP</P>\n",
    "        </BODY>\n",
    "</HTML>\n",
    "_EOF_"
   ]
  },
  {
   "cell_type": "code",
   "execution_count": null,
   "metadata": {},
   "outputs": [],
   "source": []
  },
  {
   "cell_type": "code",
   "execution_count": null,
   "metadata": {},
   "outputs": [],
   "source": []
  },
  {
   "cell_type": "code",
   "execution_count": null,
   "metadata": {},
   "outputs": [],
   "source": []
  },
  {
   "cell_type": "code",
   "execution_count": null,
   "metadata": {},
   "outputs": [],
   "source": []
  },
  {
   "cell_type": "code",
   "execution_count": null,
   "metadata": {},
   "outputs": [],
   "source": []
  },
  {
   "cell_type": "code",
   "execution_count": null,
   "metadata": {},
   "outputs": [],
   "source": []
  }
 ],
 "metadata": {
  "kernelspec": {
   "display_name": "Python 3",
   "language": "python",
   "name": "python3"
  },
  "language_info": {
   "codemirror_mode": {
    "name": "ipython",
    "version": 3
   },
   "file_extension": ".py",
   "mimetype": "text/x-python",
   "name": "python",
   "nbconvert_exporter": "python",
   "pygments_lexer": "ipython3",
   "version": "3.6.5"
  }
 },
 "nbformat": 4,
 "nbformat_minor": 2
}
