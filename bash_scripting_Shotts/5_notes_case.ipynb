{
 "cells": [
  {
   "cell_type": "markdown",
   "metadata": {},
   "source": [
    "`case` can make logic easier\n",
    "\n",
    "pattern:\n",
    "\n",
    "case 'string' in pattern commands `;;` esac\n",
    "\n"
   ]
  },
  {
   "cell_type": "code",
   "execution_count": null,
   "metadata": {},
   "outputs": [],
   "source": [
    "%%bash\n",
    "\n",
    "#!/bin/bash\n",
    "\n",
    "clear\n",
    "echo \"\n",
    "Select\n",
    "1. System Information report\n",
    "2. Disk space\n",
    "3. Home space utilization\n",
    "4. quit\n",
    "    \"\n",
    "\n",
    "read -p \"Enter selection [0-3] > \"\n",
    "\n",
    "case $REPLY in\n",
    "        0)      echo \"program terminated\"\n",
    "                exit\n",
    "                ;;\n",
    "        1)      echo \"Hostname : $HOSTNAME\"\n",
    "                uptime\n",
    "                ;;\n",
    "        2)      df -h\n",
    "                ;;\n",
    "        3)      if [[ $(id -u) -eq 0 ]]; then\n",
    "                        echo \"home space utilization (all users)\"\n",
    "                        du -sh /home/*\n",
    "                else\n",
    "                        echo \"home space utilization\"\n",
    "                        du -sh $HOME\n",
    "                fi\n",
    "                ;;\n",
    "        *)      echo \"invalid entry \" >&2\n",
    "                exit 1\n",
    "                ;;\n",
    "esac\n",
    "\n"
   ]
  },
  {
   "cell_type": "markdown",
   "metadata": {},
   "source": [
    "we can use patterns \n",
    "\n",
    "see. p.420 in Shott's book"
   ]
  },
  {
   "cell_type": "code",
   "execution_count": null,
   "metadata": {},
   "outputs": [],
   "source": [
    "%%bash\n",
    "\n",
    "\n",
    "#!/bin/bash\n",
    "\n",
    "read -p \"enter word > \"\n",
    "\n",
    "case $REPLY in\n",
    "        [[:alpha:]])        echo \"single alphabetic char.\";;\n",
    "        [ABC][0-9])     echo \" A, B or C followed by a digit\";;\n",
    "        ???)        echo \"three chars long\";;\n",
    "        *.txt)      echo \" is a word ending in '.txt'\";;\n",
    "        *)      echo \"smth else\"\n",
    "esac"
   ]
  },
  {
   "cell_type": "markdown",
   "metadata": {},
   "source": [
    "we can join pattern by `|`"
   ]
  },
  {
   "cell_type": "code",
   "execution_count": null,
   "metadata": {},
   "outputs": [],
   "source": [
    "%%bash\n",
    "\n",
    "#!/bin/bas\n",
    "\n",
    "clear\n",
    "echo \"\n",
    "Select\n",
    "1. System Information report\n",
    "2. Disk space\n",
    "3. Home space utilization\n",
    "4. quit\n",
    "    \"\n",
    "\n",
    "read -p \"Enter selection [A, B, C or Q] > \"\n",
    "\n",
    "case $REPLY in\n",
    "        q|Q)        echo \"terminated\"\n",
    "                    exit\n",
    "                    ;;\n",
    "        a|A)        echo \"hostname: $HOSTNAME\"\n",
    "                    uptime\n",
    "                    ;;\n",
    "        b|B)        df -h\n",
    "                    ;;\n",
    "        c|C)        if [[ $(id -u) -eq 0 ]]; then\n",
    "                        echo \"home space utilization (all users)\"\n",
    "                        du -sh /home/*\n",
    "                    else\n",
    "                        echo \"home space utilization\"\n",
    "                        du -sh $HOME\n",
    "                    fi\n",
    "                    ;;\n",
    "        *)          echo \"(invalid entry)\" >&2\n",
    "                    exit 1\n",
    "                    ;;\n",
    "esac"
   ]
  },
  {
   "cell_type": "code",
   "execution_count": null,
   "metadata": {},
   "outputs": [],
   "source": []
  },
  {
   "cell_type": "code",
   "execution_count": null,
   "metadata": {},
   "outputs": [],
   "source": []
  },
  {
   "cell_type": "code",
   "execution_count": null,
   "metadata": {},
   "outputs": [],
   "source": []
  },
  {
   "cell_type": "code",
   "execution_count": null,
   "metadata": {},
   "outputs": [],
   "source": []
  }
 ],
 "metadata": {
  "kernelspec": {
   "display_name": "Python 3",
   "language": "python",
   "name": "python3"
  },
  "language_info": {
   "codemirror_mode": {
    "name": "ipython",
    "version": 3
   },
   "file_extension": ".py",
   "mimetype": "text/x-python",
   "name": "python",
   "nbconvert_exporter": "python",
   "pygments_lexer": "ipython3",
   "version": "3.6.5"
  }
 },
 "nbformat": 4,
 "nbformat_minor": 2
}
