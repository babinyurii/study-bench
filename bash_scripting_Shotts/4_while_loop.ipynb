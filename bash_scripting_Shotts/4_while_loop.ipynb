{
 "cells": [
  {
   "cell_type": "markdown",
   "metadata": {},
   "source": [
    "# ```while``` loop"
   ]
  },
  {
   "cell_type": "markdown",
   "metadata": {},
   "source": [
    "- `while` checks out exit status\n",
    "- if `[]` returns 0 which is True, loop continues\n",
    "- when `[]` returns other exit status than 0, loop terminates"
   ]
  },
  {
   "cell_type": "code",
   "execution_count": 1,
   "metadata": {},
   "outputs": [
    {
     "name": "stdout",
     "output_type": "stream",
     "text": [
      "1\n",
      "2\n",
      "3\n",
      "4\n",
      "5\n",
      "Finished\n"
     ]
    }
   ],
   "source": [
    "%%bash\n",
    "#!/bin/bash\n",
    "\n",
    "count=1\n",
    "\n",
    "while [ $count -le 5 ]; do\n",
    "        echo $count\n",
    "        count=$((count + 1))\n",
    "done\n",
    "\n",
    "echo \"Finished\""
   ]
  },
  {
   "cell_type": "markdown",
   "metadata": {},
   "source": [
    "### sysinfo using while loop"
   ]
  },
  {
   "cell_type": "code",
   "execution_count": null,
   "metadata": {},
   "outputs": [],
   "source": [
    "\n",
    "#!/bin/bash\n",
    "\n",
    "DELAY=2\n",
    "\n",
    "while [[ $REPLY != 0 ]]; do\n",
    "        clear\n",
    "        cat <<- _EOF_\n",
    "                Please select\n",
    "\n",
    "                1. System Information report\n",
    "                2. Disk space\n",
    "                3. Home space utilization\n",
    "                4. quit\n",
    "_EOF_\n",
    "\n",
    "        read -p \"enter selection [0-3] > \"\n",
    "\n",
    "        if [[ $REPLY =~ ^[0-3]$ ]]; then\n",
    "                \n",
    "                if [[ $REPLY == 1 ]]; then\n",
    "                        echo \"hostname: $HOSTNAME\"\n",
    "                        uptime\n",
    "                        sleep $DELAY\n",
    "                fi\n",
    "\n",
    "                if [[ $REPLY == 2 ]]; then\n",
    "                        df -h\n",
    "                        sleep $DELAY\n",
    "                fi\n",
    "\n",
    "                if [[ $REPLY == 3 ]]; then\n",
    "                        if [[ $(id -u) -eq 0 ]]; then\n",
    "                                echo \"home space utilization (all users)\"\n",
    "                                du -sh /home/*\n",
    "                        else\n",
    "                                echo \"home space\"\n",
    "                                du -sh $HOME\n",
    "                        fi\n",
    "                        sleep $DELAY\n",
    "                fi\n",
    "        else\n",
    "                echo \"Invalid entry\"\n",
    "                sleep $DELAY\n",
    "        fi\n",
    "done\n",
    "echo \"Program terminated\""
   ]
  },
  {
   "cell_type": "markdown",
   "metadata": {},
   "source": [
    "**the same using while true; and interrupting loop with conitnue and break**"
   ]
  },
  {
   "cell_type": "code",
   "execution_count": null,
   "metadata": {},
   "outputs": [],
   "source": [
    "#!/bin/bash\n",
    "\n",
    "DELAY=3\n",
    "\n",
    "while true; do\n",
    "        clear\n",
    "        cat <<- _EOF_\n",
    "                Select\n",
    "                 1. System Information report\n",
    "                2. Disk space\n",
    "                3. Home space utilization\n",
    "                4. quit\n",
    "_EOF_\n",
    "\n",
    "read -p \"enter selection 0-3 > \"\n",
    "\n",
    "if [[ $REPLY =~ ^[0-3]$ ]]; then\n",
    "        if [[ $REPLY == 1 ]]; then\n",
    "                echo \"hostname: $HOSTNAME\"\n",
    "                uptime\n",
    "                sleep $DELAY\n",
    "                continue\n",
    "        fi\n",
    "\n",
    "        if [[ $REPLY == 2 ]]; then\n",
    "                df -h\n",
    "                sleep $DELAY\n",
    "                continue\n",
    "        fi\n",
    "\n",
    "        if [[ $REPLY == 3 ]]; then\n",
    "                if [[ $(id -u) -eq 0 ]]; then\n",
    "                        echo \"home utilization (users)\"\n",
    "                        du -sh /home/*\n",
    "                else\n",
    "                        echo \"home space ($USER)\"\n",
    "                        du -sh $HOME\n",
    "                fi\n",
    "                sleep $DELAY\n",
    "                continue\n",
    "        fi\n",
    "\n",
    "        if [[ $REPLY == 0 ]]; then\n",
    "                break\n",
    "        fi\n",
    "else\n",
    "        echo \"invalid entry\"\n",
    "        sleep $DELAY\n",
    "fi\n",
    "done\n",
    "echo \"program terminated\""
   ]
  },
  {
   "cell_type": "markdown",
   "metadata": {},
   "source": [
    "**`until` is the same as while. But it executes loop until it sees 0 exit code**"
   ]
  },
  {
   "cell_type": "code",
   "execution_count": 1,
   "metadata": {},
   "outputs": [
    {
     "name": "stdout",
     "output_type": "stream",
     "text": [
      "1\n",
      "2\n",
      "3\n",
      "4\n",
      "5\n",
      "finished\n"
     ]
    }
   ],
   "source": [
    "%%bash\n",
    "#!/bin/bash\n",
    "\n",
    "count=1\n",
    "\n",
    "until [ $count -gt 5 ]; do\n",
    "        echo $count\n",
    "        count=$((count + 1))\n",
    "done\n",
    "echo \"finished\""
   ]
  },
  {
   "cell_type": "code",
   "execution_count": null,
   "metadata": {},
   "outputs": [],
   "source": []
  },
  {
   "cell_type": "code",
   "execution_count": 2,
   "metadata": {},
   "outputs": [
    {
     "name": "stdout",
     "output_type": "stream",
     "text": [
      ">seq1\r",
      "aaaaaaaaaaa\r",
      ">seq2\r",
      "ccccccccccc\r",
      ">seq3\r",
      "ttttttttttt\r",
      ">seq4\r"
     ]
    }
   ],
   "source": [
    "%%bash\n",
    "while read; do\n",
    "        printf $REPLY\n",
    "done < seq.txt"
   ]
  },
  {
   "cell_type": "code",
   "execution_count": null,
   "metadata": {},
   "outputs": [],
   "source": []
  },
  {
   "cell_type": "code",
   "execution_count": null,
   "metadata": {},
   "outputs": [],
   "source": []
  },
  {
   "cell_type": "code",
   "execution_count": null,
   "metadata": {},
   "outputs": [],
   "source": []
  },
  {
   "cell_type": "code",
   "execution_count": null,
   "metadata": {},
   "outputs": [],
   "source": []
  },
  {
   "cell_type": "code",
   "execution_count": null,
   "metadata": {},
   "outputs": [],
   "source": []
  },
  {
   "cell_type": "code",
   "execution_count": null,
   "metadata": {},
   "outputs": [],
   "source": []
  },
  {
   "cell_type": "code",
   "execution_count": null,
   "metadata": {},
   "outputs": [],
   "source": []
  },
  {
   "cell_type": "code",
   "execution_count": 3,
   "metadata": {
    "scrolled": false
   },
   "outputs": [
    {
     "name": "stdout",
     "output_type": "stream",
     "text": [
      "4\n"
     ]
    }
   ],
   "source": [
    "%%bash\n",
    "#!bin/bash\n",
    "\n",
    "grep -c \"^>\" seq.txt"
   ]
  },
  {
   "cell_type": "code",
   "execution_count": null,
   "metadata": {},
   "outputs": [],
   "source": []
  },
  {
   "cell_type": "code",
   "execution_count": null,
   "metadata": {},
   "outputs": [],
   "source": []
  },
  {
   "cell_type": "code",
   "execution_count": null,
   "metadata": {},
   "outputs": [],
   "source": []
  },
  {
   "cell_type": "code",
   "execution_count": null,
   "metadata": {},
   "outputs": [],
   "source": []
  },
  {
   "cell_type": "code",
   "execution_count": null,
   "metadata": {},
   "outputs": [],
   "source": []
  },
  {
   "cell_type": "code",
   "execution_count": null,
   "metadata": {},
   "outputs": [],
   "source": []
  },
  {
   "cell_type": "code",
   "execution_count": null,
   "metadata": {},
   "outputs": [],
   "source": []
  },
  {
   "cell_type": "code",
   "execution_count": null,
   "metadata": {},
   "outputs": [],
   "source": []
  }
 ],
 "metadata": {
  "kernelspec": {
   "display_name": "Python 3",
   "language": "python",
   "name": "python3"
  },
  "language_info": {
   "codemirror_mode": {
    "name": "ipython",
    "version": 3
   },
   "file_extension": ".py",
   "mimetype": "text/x-python",
   "name": "python",
   "nbconvert_exporter": "python",
   "pygments_lexer": "ipython3",
   "version": "3.6.5"
  }
 },
 "nbformat": 4,
 "nbformat_minor": 2
}
