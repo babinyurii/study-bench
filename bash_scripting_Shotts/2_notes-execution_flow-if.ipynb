{
 "cells": [
  {
   "cell_type": "markdown",
   "metadata": {},
   "source": [
    "**basic ```if``` construction : **"
   ]
  },
  {
   "cell_type": "code",
   "execution_count": 10,
   "metadata": {},
   "outputs": [
    {
     "name": "stdout",
     "output_type": "stream",
     "text": [
      "x equals 5\n"
     ]
    }
   ],
   "source": [
    "%%bash\n",
    "x=5\n",
    "\n",
    "if [ $x = 5 ]; then\n",
    "    echo \"x equals 5\"\n",
    "else\n",
    "    echo \"x does not equals 5\"\n",
    "fi"
   ]
  },
  {
   "cell_type": "markdown",
   "metadata": {},
   "source": [
    "there is a variable to show ```exit status```\n",
    "it is : ```$?```\n",
    "\n",
    "by convention its values, which ranges from 0 to 255 means : \n",
    "- 0 - completed successfully\n",
    "- other num - not successfully"
   ]
  },
  {
   "cell_type": "code",
   "execution_count": 11,
   "metadata": {},
   "outputs": [
    {
     "name": "stdout",
     "output_type": "stream",
     "text": [
      "x equals 5\n",
      "0\n"
     ]
    }
   ],
   "source": [
    "%%bash\n",
    "x=5\n",
    "\n",
    "if [ $x = 5 ]; then\n",
    "    echo \"x equals 5\"\n",
    "else\n",
    "    echo \"x does not equals 5\"\n",
    "fi\n",
    "\n",
    "echo $?"
   ]
  },
  {
   "cell_type": "markdown",
   "metadata": {},
   "source": [
    "bash uses two simple built-in commands which always complete with ```0``` or ```1``` exit status :\n",
    "- ```true``` is always ```0```\n",
    "- ```false``` is always ```1```"
   ]
  },
  {
   "cell_type": "code",
   "execution_count": 12,
   "metadata": {},
   "outputs": [
    {
     "name": "stdout",
     "output_type": "stream",
     "text": [
      "0\n",
      "1\n"
     ]
    }
   ],
   "source": [
    "%%bash\n",
    "true\n",
    "echo $?\n",
    "false\n",
    "echo $?"
   ]
  },
  {
   "cell_type": "code",
   "execution_count": 21,
   "metadata": {},
   "outputs": [
    {
     "name": "stdout",
     "output_type": "stream",
     "text": [
      "it's true\n",
      "it's false\n"
     ]
    }
   ],
   "source": [
    "%%bash\n",
    "\n",
    "x=true\n",
    "if $x; then \n",
    "    echo \"it's true\"\n",
    "else\n",
    "    echo \"it's false\"\n",
    "fi\n",
    "\n",
    "\n",
    "x=false\n",
    "if $x; then \n",
    "    echo \"it's true\"\n",
    "else\n",
    "    echo \"it's false\"\n",
    "fi"
   ]
  },
  {
   "cell_type": "code",
   "execution_count": null,
   "metadata": {},
   "outputs": [],
   "source": []
  },
  {
   "cell_type": "markdown",
   "metadata": {},
   "source": [
    "### test command"
   ]
  },
  {
   "cell_type": "markdown",
   "metadata": {},
   "source": [
    "it's often used with ```if``` statement to check up true or false\n",
    "\n",
    "```test``` has two forms :\n",
    "1. ```test expression ```\n",
    "2. ```[ expression ]```\n",
    "\n",
    "```expression``` returns ```true``` or ```false``` value\n",
    "\n",
    "```test``` command returns ```0``` if ```expression```  is ```true``` and ```1``` if ```expression``` is false\n",
    "\n",
    "see pattern for ```expression``` at the page 376 in Shott's book"
   ]
  },
  {
   "cell_type": "markdown",
   "metadata": {},
   "source": [
    "note the following :\n",
    "- ```$FILE``` parameter is separated to quot signs. it's not required but protect you from cases when parameter is empty\n",
    "- ```exit``` command. it always returns 0. But here we use 1. At the very end of the script it's added just formally : anyway script will return 0 is successful"
   ]
  },
  {
   "cell_type": "code",
   "execution_count": 29,
   "metadata": {},
   "outputs": [
    {
     "name": "stdout",
     "output_type": "stream",
     "text": [
      "/home/yuriy/.bashrc is a regular file\n",
      "/home/yuriy/.bashrc is readable\n",
      "/home/yuriy/.bashrc is writable\n"
     ]
    }
   ],
   "source": [
    "%%bash\n",
    "\n",
    "#!/bin/bash\n",
    "\n",
    "FILE=~/.bashrc\n",
    "\n",
    "if [ -e \"$FILE\" ]; then\n",
    "        if [ -f \"$FILE\" ]; then\n",
    "                echo \"$FILE is a regular file\"\n",
    "        fi\n",
    "        \n",
    "        if [ -d \"$FILE\" ]; then\n",
    "                echo \"$FILE is a directory\"\n",
    "        fi\n",
    "        \n",
    "        if [ -r \"$FILE\" ]; then\n",
    "                echo \"$FILE is readable\"\n",
    "        fi\n",
    "        \n",
    "        if [ -w \"$FILE\" ]; then\n",
    "                echo \"$FILE is writable\"\n",
    "        fi\n",
    "        \n",
    "        if [ -x \"$FILE\" ]; then\n",
    "                echo \"$FILE is executable/searchable\"\n",
    "        fi\n",
    "else\n",
    "    echo \"$FILE doesn't exist\"\n",
    "    exit 1\n",
    "fi\n",
    "exit "
   ]
  },
  {
   "cell_type": "code",
   "execution_count": null,
   "metadata": {},
   "outputs": [],
   "source": []
  },
  {
   "cell_type": "markdown",
   "metadata": {},
   "source": [
    "to use exit status in function you need ```return``` statement. Let's create function from our script"
   ]
  },
  {
   "cell_type": "code",
   "execution_count": 32,
   "metadata": {},
   "outputs": [
    {
     "name": "stdout",
     "output_type": "stream",
     "text": [
      "/home/yuriy/.bashrc is a regular file\n",
      "/home/yuriy/.bashrc is readable\n",
      "/home/yuriy/.bashrc is writable\n"
     ]
    }
   ],
   "source": [
    "%%bash\n",
    "\n",
    "#!/bin/bash\n",
    "\n",
    "test_file () {\n",
    "\n",
    "FILE=~/.bashrc\n",
    "\n",
    "if [ -e \"$FILE\" ]; then\n",
    "        if [ -f \"$FILE\" ]; then\n",
    "                echo \"$FILE is a regular file\"\n",
    "        fi\n",
    "        \n",
    "        if [ -d \"$FILE\" ]; then\n",
    "                echo \"$FILE is a directory\"\n",
    "        fi\n",
    "        \n",
    "        if [ -r \"$FILE\" ]; then\n",
    "                echo \"$FILE is readable\"\n",
    "        fi\n",
    "        \n",
    "        if [ -w \"$FILE\" ]; then\n",
    "                echo \"$FILE is writable\"\n",
    "        fi\n",
    "        \n",
    "        if [ -x \"$FILE\" ]; then\n",
    "                echo \"$FILE is executable/searchable\"\n",
    "        fi\n",
    "else\n",
    "    echo \"$FILE doesn't exist\"\n",
    "    return 1  # return instead of exit\n",
    "fi \n",
    "\n",
    "}\n",
    "\n",
    "# function call\n",
    "test_file"
   ]
  },
  {
   "cell_type": "code",
   "execution_count": null,
   "metadata": {},
   "outputs": [],
   "source": []
  },
  {
   "cell_type": "markdown",
   "metadata": {},
   "source": [
    "**NOTE : **\n",
    "- when using > < in ```test``` always quot them of backslash. Otherwise they'll be interpreted as redirecting signs"
   ]
  },
  {
   "cell_type": "markdown",
   "metadata": {},
   "source": [
    "### comparing strings"
   ]
  },
  {
   "cell_type": "markdown",
   "metadata": {},
   "source": [
    "list of strings check up expression is at the page 378 of Shott's book"
   ]
  },
  {
   "cell_type": "code",
   "execution_count": 36,
   "metadata": {},
   "outputs": [
    {
     "name": "stdout",
     "output_type": "stream",
     "text": [
      "The answer is maybe\n"
     ]
    }
   ],
   "source": [
    "%%bash\n",
    "\n",
    "#!/bin/bash\n",
    "\n",
    "ANSWER=maybe\n",
    "\n",
    "if [ -z \"$ANSWER\" ]; then\n",
    "    echo \"there's no answer.\" >&2 # redirecting into standard error output\n",
    "    exit 1\n",
    "fi\n",
    "\n",
    "if [ \"$ANSWER\" == \"yes\" ]; then\n",
    "    echo \"The answer is yes\"\n",
    "elif [ \"$ANSWER\" == \"no\" ]; then\n",
    "    echo \"The answer is no\"\n",
    "elif [ \"$ANSWER\" == \"maybe\" ]; then\n",
    "    echo \"The answer is maybe\"\n",
    "else\n",
    "    echo \"The answer is unknown\"\n",
    "fi\n"
   ]
  },
  {
   "cell_type": "code",
   "execution_count": null,
   "metadata": {},
   "outputs": [],
   "source": []
  },
  {
   "cell_type": "markdown",
   "metadata": {},
   "source": [
    "### comparing integers"
   ]
  },
  {
   "cell_type": "code",
   "execution_count": 42,
   "metadata": {},
   "outputs": [
    {
     "name": "stdout",
     "output_type": "stream",
     "text": [
      "INT is positive\n",
      "INT is even\n"
     ]
    }
   ],
   "source": [
    "%%bash\n",
    "\n",
    "#!/bin/bash\n",
    "\n",
    "INT=98\n",
    "\n",
    "if [ -z \"$INT\" ]; then\n",
    "    echo \"INT is empty\" >&2\n",
    "    exit 1\n",
    "fi\n",
    "\n",
    "if [ $INT -eq 0 ]; then\n",
    "    echo \"INT is zero\"\n",
    "else\n",
    "    if [ $INT -lt 0 ]; then\n",
    "        echo \"INT is negative\"\n",
    "    else\n",
    "        echo \"INT is positive\"\n",
    "    fi\n",
    "    \n",
    "    if [ $((INT % 2)) -eq 0 ]; then # like in Python % returns remainder of the division\n",
    "        echo \"INT is even\"\n",
    "    else\n",
    "        echo \"INT is odd\"\n",
    "    fi\n",
    "fi"
   ]
  },
  {
   "cell_type": "markdown",
   "metadata": {},
   "source": [
    "### updated ```test``` command version"
   ]
  },
  {
   "cell_type": "markdown",
   "metadata": {},
   "source": [
    "**the pattern is : **\n",
    "```[[ expression ]]```\n",
    "\n",
    "```expression``` returns boolean value\n",
    "\n",
    "in addition new ```test``` command supports regexed using the following syntax :\n",
    "\n",
    "```strin1 =~ regex```\n",
    "\n",
    "returns ```true``` if regex matches, and ```false``` otherwise"
   ]
  },
  {
   "cell_type": "code",
   "execution_count": 9,
   "metadata": {},
   "outputs": [
    {
     "name": "stdout",
     "output_type": "stream",
     "text": [
      "INT is negative\n",
      "INT is odd\n"
     ]
    }
   ],
   "source": [
    "%%bash\n",
    "#!/bin/bash\n",
    "INT=-5\n",
    "\n",
    "if [[ \"$INT\" =~ ^-?[0-9]+$ ]]; then\n",
    "        if [ $INT -eq 0 ]; then\n",
    "                echo \"INT is zero\"\n",
    "        else\n",
    "                if [ $INT -lt 0 ]; then\n",
    "                        echo \"INT is negative\"\n",
    "                else\n",
    "                        echo \"INT is positive\"\n",
    "                fi\n",
    "                \n",
    "                if [ $((INT % 2)) -eq 0 ]; then\n",
    "                        echo \"INT is even\"\n",
    "                else\n",
    "                        echo \"INT is odd\"\n",
    "                fi\n",
    "        fi\n",
    "else\n",
    "        echo \"INT is not an integer\" >&2\n",
    "        exit 1\n",
    "fi"
   ]
  },
  {
   "cell_type": "markdown",
   "metadata": {},
   "source": [
    "### ```(( ))``` command to check up arithmetic operations"
   ]
  },
  {
   "cell_type": "markdown",
   "metadata": {},
   "source": [
    "- if result of the operation is not 0, it's ```true```"
   ]
  },
  {
   "cell_type": "code",
   "execution_count": 16,
   "metadata": {},
   "outputs": [
    {
     "name": "stdout",
     "output_type": "stream",
     "text": [
      "It's true\n"
     ]
    }
   ],
   "source": [
    "%%bash\n",
    "#!/bin/bash\n",
    "\n",
    "if ((1)); then echo \"It's true\"; fi\n",
    "\n",
    "if ((0)); then echo \"It's true\"; fi # no output if false\n"
   ]
  },
  {
   "cell_type": "markdown",
   "metadata": {},
   "source": [
    "```(( ))``` :\n",
    "    - applies only to integers\n",
    "    - recoginizes vars by their names\n",
    "    - doesn't require substitution"
   ]
  },
  {
   "cell_type": "markdown",
   "metadata": {},
   "source": [
    "modifying script using this command"
   ]
  },
  {
   "cell_type": "code",
   "execution_count": 22,
   "metadata": {},
   "outputs": [
    {
     "name": "stdout",
     "output_type": "stream",
     "text": [
      "INT is positive\n",
      "INT is odd\n"
     ]
    }
   ],
   "source": [
    "%%bash\n",
    "#!/bin/bash\n",
    "INT=137\n",
    "\n",
    "if [[ \"$INT\" =~ ^-?[0-9]+$ ]]; then\n",
    "\n",
    "        if ((INT == 0)); then\n",
    "                echo \"INT is zero\"\n",
    "        else\n",
    "                if ((INT < 0)); then\n",
    "                        echo \"INT is negative\"\n",
    "                else\n",
    "                        echo \"INT is positive\"\n",
    "                fi\n",
    "                \n",
    "                if(( ((INT % 2)) == 0)); then\n",
    "                        echo \"INT is even\"\n",
    "                else\n",
    "                        echo \"INT is odd\"\n",
    "                fi\n",
    "        fi\n",
    "else\n",
    "        echo \"INT is not an integer\" >&2\n",
    "        exit 1\n",
    "fi\n"
   ]
  },
  {
   "cell_type": "code",
   "execution_count": null,
   "metadata": {},
   "outputs": [],
   "source": []
  },
  {
   "cell_type": "markdown",
   "metadata": {},
   "source": [
    "### complex condition expressions"
   ]
  },
  {
   "cell_type": "markdown",
   "metadata": {},
   "source": [
    "|Operation | test| ```[[]]``` and ```(())```|\n",
    "|---|---|---|\n",
    "|AND| ```-a```|```&&```|\n",
    "|OR |   ```-o```| double straight lines|\n",
    "|NOT | ```!``` |```!```|"
   ]
  },
  {
   "cell_type": "code",
   "execution_count": 28,
   "metadata": {},
   "outputs": [
    {
     "name": "stdout",
     "output_type": "stream",
     "text": [
      "-50 is out of range\n"
     ]
    }
   ],
   "source": [
    "%%bash\n",
    "#!/bin/bash\n",
    "\n",
    "MIN_VAL=1\n",
    "MAX_VAL=100\n",
    "\n",
    "INT=-50\n",
    "\n",
    "\n",
    "if [[ \"$INT\" =~ ^-?[0-9]+$ ]]; then\n",
    "        if [[ INT -ge MIN_VAL && INT -le MAX_VAL ]]; then\n",
    "                echo \"$INT is within $MIN_VAL to $MAX_VAL\"\n",
    "        else\n",
    "                echo \"$INT is out of range\"\n",
    "        fi\n",
    "        \n",
    "else\n",
    "        echo \"INT is not an integer\" >&2\n",
    "        exit 1\n",
    "fi"
   ]
  },
  {
   "cell_type": "code",
   "execution_count": null,
   "metadata": {},
   "outputs": [],
   "source": []
  },
  {
   "cell_type": "code",
   "execution_count": null,
   "metadata": {},
   "outputs": [],
   "source": []
  },
  {
   "cell_type": "code",
   "execution_count": null,
   "metadata": {},
   "outputs": [],
   "source": []
  },
  {
   "cell_type": "code",
   "execution_count": null,
   "metadata": {},
   "outputs": [],
   "source": []
  },
  {
   "cell_type": "code",
   "execution_count": null,
   "metadata": {},
   "outputs": [],
   "source": []
  },
  {
   "cell_type": "code",
   "execution_count": null,
   "metadata": {},
   "outputs": [],
   "source": []
  },
  {
   "cell_type": "code",
   "execution_count": null,
   "metadata": {},
   "outputs": [],
   "source": []
  },
  {
   "cell_type": "code",
   "execution_count": null,
   "metadata": {},
   "outputs": [],
   "source": []
  },
  {
   "cell_type": "code",
   "execution_count": null,
   "metadata": {},
   "outputs": [],
   "source": []
  },
  {
   "cell_type": "code",
   "execution_count": null,
   "metadata": {},
   "outputs": [],
   "source": []
  },
  {
   "cell_type": "code",
   "execution_count": null,
   "metadata": {},
   "outputs": [],
   "source": []
  },
  {
   "cell_type": "code",
   "execution_count": null,
   "metadata": {},
   "outputs": [],
   "source": []
  }
 ],
 "metadata": {
  "kernelspec": {
   "display_name": "Python 3",
   "language": "python",
   "name": "python3"
  },
  "language_info": {
   "codemirror_mode": {
    "name": "ipython",
    "version": 3
   },
   "file_extension": ".py",
   "mimetype": "text/x-python",
   "name": "python",
   "nbconvert_exporter": "python",
   "pygments_lexer": "ipython3",
   "version": "3.6.5"
  }
 },
 "nbformat": 4,
 "nbformat_minor": 2
}
