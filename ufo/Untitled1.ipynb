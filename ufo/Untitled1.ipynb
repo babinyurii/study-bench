{
 "cells": [
  {
   "cell_type": "code",
   "execution_count": 93,
   "metadata": {},
   "outputs": [],
   "source": [
    "import pandas as pd"
   ]
  },
  {
   "cell_type": "code",
   "execution_count": 94,
   "metadata": {},
   "outputs": [
    {
     "name": "stderr",
     "output_type": "stream",
     "text": [
      "b'Skipping line 878: expected 11 fields, saw 12\\nSkipping line 1713: expected 11 fields, saw 12\\nSkipping line 1815: expected 11 fields, saw 12\\nSkipping line 2858: expected 11 fields, saw 12\\nSkipping line 3734: expected 11 fields, saw 12\\nSkipping line 4756: expected 11 fields, saw 12\\nSkipping line 5389: expected 11 fields, saw 12\\nSkipping line 5423: expected 11 fields, saw 12\\nSkipping line 5614: expected 11 fields, saw 12\\nSkipping line 5849: expected 11 fields, saw 12\\nSkipping line 6093: expected 11 fields, saw 12\\nSkipping line 7516: expected 11 fields, saw 12\\nSkipping line 7626: expected 11 fields, saw 12\\nSkipping line 8893: expected 11 fields, saw 12\\nSkipping line 9015: expected 11 fields, saw 12\\nSkipping line 9571: expected 11 fields, saw 12\\nSkipping line 9620: expected 11 fields, saw 12\\nSkipping line 9751: expected 11 fields, saw 12\\nSkipping line 10157: expected 11 fields, saw 12\\nSkipping line 10427: expected 11 fields, saw 12\\nSkipping line 12035: expected 11 fields, saw 12\\nSkipping line 12113: expected 11 fields, saw 12\\nSkipping line 12144: expected 11 fields, saw 12\\nSkipping line 12891: expected 11 fields, saw 12\\nSkipping line 14613: expected 11 fields, saw 12\\nSkipping line 16031: expected 11 fields, saw 12\\nSkipping line 16344: expected 11 fields, saw 12\\nSkipping line 16399: expected 11 fields, saw 12\\nSkipping line 16635: expected 11 fields, saw 12\\nSkipping line 16722: expected 11 fields, saw 12\\nSkipping line 18241: expected 11 fields, saw 12\\nSkipping line 18367: expected 11 fields, saw 12\\nSkipping line 18479: expected 11 fields, saw 12\\nSkipping line 19814: expected 11 fields, saw 12\\nSkipping line 19859: expected 11 fields, saw 12\\nSkipping line 19909: expected 11 fields, saw 12\\nSkipping line 19935: expected 11 fields, saw 12\\nSkipping line 20386: expected 11 fields, saw 12\\nSkipping line 20533: expected 11 fields, saw 12\\nSkipping line 20764: expected 11 fields, saw 12\\nSkipping line 21145: expected 11 fields, saw 12\\nSkipping line 21291: expected 11 fields, saw 12\\nSkipping line 21309: expected 11 fields, saw 12\\nSkipping line 21576: expected 11 fields, saw 12\\nSkipping line 21966: expected 11 fields, saw 12\\nSkipping line 22092: expected 11 fields, saw 12\\nSkipping line 22108: expected 11 fields, saw 12\\nSkipping line 22236: expected 11 fields, saw 12\\nSkipping line 22785: expected 11 fields, saw 12\\nSkipping line 23143: expected 11 fields, saw 12\\nSkipping line 23145: expected 11 fields, saw 12\\nSkipping line 23251: expected 11 fields, saw 12\\nSkipping line 23369: expected 11 fields, saw 12\\nSkipping line 23464: expected 11 fields, saw 12\\nSkipping line 23622: expected 11 fields, saw 12\\nSkipping line 23732: expected 11 fields, saw 12\\nSkipping line 23924: expected 11 fields, saw 12\\nSkipping line 24696: expected 11 fields, saw 12\\nSkipping line 25543: expected 11 fields, saw 12\\nSkipping line 25703: expected 11 fields, saw 12\\nSkipping line 25815: expected 11 fields, saw 12\\nSkipping line 26185: expected 11 fields, saw 12\\nSkipping line 27424: expected 11 fields, saw 12\\nSkipping line 27465: expected 11 fields, saw 12\\nSkipping line 28083: expected 11 fields, saw 12\\nSkipping line 28282: expected 11 fields, saw 12\\nSkipping line 28460: expected 11 fields, saw 12\\nSkipping line 28745: expected 11 fields, saw 12\\nSkipping line 29674: expected 11 fields, saw 12\\nSkipping line 30342: expected 11 fields, saw 12\\nSkipping line 30417: expected 11 fields, saw 12\\nSkipping line 31154: expected 11 fields, saw 12\\nSkipping line 31308: expected 11 fields, saw 12\\nSkipping line 32198: expected 11 fields, saw 12\\nSkipping line 32439: expected 11 fields, saw 12\\nSkipping line 32675: expected 11 fields, saw 12\\nSkipping line 33134: expected 11 fields, saw 12\\nSkipping line 33442: expected 11 fields, saw 12\\nSkipping line 34184: expected 11 fields, saw 12\\nSkipping line 34731: expected 11 fields, saw 12\\nSkipping line 34869: expected 11 fields, saw 12\\nSkipping line 35107: expected 11 fields, saw 12\\nSkipping line 35300: expected 11 fields, saw 12\\nSkipping line 35396: expected 11 fields, saw 12\\nSkipping line 35913: expected 11 fields, saw 12\\nSkipping line 36445: expected 11 fields, saw 12\\nSkipping line 36693: expected 11 fields, saw 12\\nSkipping line 36723: expected 11 fields, saw 12\\nSkipping line 37293: expected 11 fields, saw 12\\nSkipping line 37361: expected 11 fields, saw 12\\nSkipping line 37980: expected 11 fields, saw 12\\nSkipping line 38090: expected 11 fields, saw 12\\nSkipping line 38197: expected 11 fields, saw 12\\nSkipping line 39431: expected 11 fields, saw 12\\nSkipping line 39598: expected 11 fields, saw 12\\nSkipping line 39679: expected 11 fields, saw 12\\nSkipping line 39794: expected 11 fields, saw 12\\nSkipping line 40021: expected 11 fields, saw 12\\nSkipping line 40430: expected 11 fields, saw 12\\nSkipping line 42858: expected 11 fields, saw 12\\nSkipping line 43662: expected 11 fields, saw 12\\nSkipping line 44162: expected 11 fields, saw 12\\nSkipping line 45529: expected 11 fields, saw 12\\nSkipping line 46678: expected 11 fields, saw 12\\nSkipping line 46788: expected 11 fields, saw 12\\nSkipping line 46811: expected 11 fields, saw 12\\nSkipping line 46924: expected 11 fields, saw 12\\nSkipping line 47287: expected 11 fields, saw 12\\nSkipping line 47377: expected 11 fields, saw 12\\nSkipping line 47419: expected 11 fields, saw 12\\nSkipping line 47492: expected 11 fields, saw 12\\nSkipping line 47629: expected 11 fields, saw 12\\nSkipping line 48125: expected 11 fields, saw 12\\nSkipping line 48932: expected 11 fields, saw 12\\nSkipping line 48971: expected 11 fields, saw 12\\nSkipping line 49440: expected 11 fields, saw 12\\nSkipping line 49457: expected 11 fields, saw 12\\nSkipping line 50670: expected 11 fields, saw 12\\nSkipping line 50960: expected 11 fields, saw 12\\nSkipping line 51275: expected 11 fields, saw 12\\nSkipping line 51649: expected 11 fields, saw 12\\nSkipping line 51993: expected 11 fields, saw 12\\nSkipping line 52023: expected 11 fields, saw 12\\nSkipping line 52059: expected 11 fields, saw 12\\nSkipping line 52259: expected 11 fields, saw 12\\nSkipping line 52368: expected 11 fields, saw 12\\nSkipping line 52783: expected 11 fields, saw 12\\nSkipping line 53064: expected 11 fields, saw 12\\nSkipping line 53135: expected 11 fields, saw 12\\nSkipping line 53514: expected 11 fields, saw 12\\nSkipping line 54092: expected 11 fields, saw 12\\nSkipping line 55403: expected 11 fields, saw 12\\nSkipping line 57476: expected 11 fields, saw 12\\nSkipping line 58646: expected 11 fields, saw 12\\nSkipping line 58808: expected 11 fields, saw 12\\nSkipping line 59119: expected 11 fields, saw 12\\nSkipping line 59727: expected 11 fields, saw 12\\nSkipping line 60386: expected 11 fields, saw 12\\nSkipping line 60478: expected 11 fields, saw 12\\nSkipping line 60542: expected 11 fields, saw 12\\nSkipping line 60913: expected 11 fields, saw 12\\nSkipping line 61032: expected 11 fields, saw 12\\nSkipping line 61640: expected 11 fields, saw 12\\nSkipping line 61732: expected 11 fields, saw 12\\nSkipping line 62029: expected 11 fields, saw 12\\nSkipping line 62219: expected 11 fields, saw 12\\nSkipping line 63657: expected 11 fields, saw 12\\nSkipping line 64712: expected 11 fields, saw 12\\nSkipping line 65881: expected 11 fields, saw 12\\nSkipping line 66093: expected 11 fields, saw 12\\nSkipping line 66095: expected 11 fields, saw 12\\nSkipping line 66476: expected 11 fields, saw 12\\nSkipping line 66549: expected 11 fields, saw 12\\nSkipping line 66550: expected 11 fields, saw 12\\nSkipping line 68102: expected 11 fields, saw 12\\nSkipping line 69441: expected 11 fields, saw 12\\nSkipping line 70104: expected 11 fields, saw 12\\nSkipping line 70452: expected 11 fields, saw 12\\nSkipping line 70642: expected 11 fields, saw 12\\nSkipping line 70644: expected 11 fields, saw 12\\nSkipping line 70716: expected 11 fields, saw 12\\nSkipping line 71345: expected 11 fields, saw 12\\nSkipping line 71634: expected 11 fields, saw 12\\nSkipping line 72091: expected 11 fields, saw 12\\nSkipping line 72119: expected 11 fields, saw 12\\nSkipping line 73543: expected 11 fields, saw 12\\nSkipping line 74654: expected 11 fields, saw 12\\nSkipping line 74785: expected 11 fields, saw 12\\nSkipping line 74918: expected 11 fields, saw 12\\nSkipping line 75062: expected 11 fields, saw 12\\nSkipping line 75346: expected 11 fields, saw 12\\nSkipping line 75416: expected 11 fields, saw 12\\nSkipping line 75677: expected 11 fields, saw 12\\nSkipping line 75833: expected 11 fields, saw 12\\nSkipping line 76117: expected 11 fields, saw 12\\nSkipping line 76834: expected 11 fields, saw 12\\nSkipping line 77540: expected 11 fields, saw 12\\nSkipping line 77568: expected 11 fields, saw 12\\nSkipping line 77607: expected 11 fields, saw 12\\nSkipping line 77871: expected 11 fields, saw 12\\nSkipping line 78117: expected 11 fields, saw 12\\nSkipping line 78526: expected 11 fields, saw 12\\nSkipping line 78605: expected 11 fields, saw 12\\nSkipping line 79151: expected 11 fields, saw 12\\nSkipping line 79945: expected 11 fields, saw 12\\nSkipping line 80156: expected 11 fields, saw 12\\nSkipping line 80328: expected 11 fields, saw 12\\nSkipping line 80382: expected 11 fields, saw 12\\nSkipping line 80421: expected 11 fields, saw 12\\nSkipping line 80503: expected 11 fields, saw 12\\nSkipping line 82071: expected 11 fields, saw 12\\nSkipping line 82566: expected 11 fields, saw 12\\nSkipping line 86123: expected 11 fields, saw 12\\nSkipping line 87218: expected 11 fields, saw 12\\nSkipping line 87457: expected 11 fields, saw 12\\nSkipping line 87579: expected 11 fields, saw 12\\n'\n"
     ]
    }
   ],
   "source": [
    "ufo = pd.read_csv('complete.csv', low_memory=False, error_bad_lines=False)"
   ]
  },
  {
   "cell_type": "code",
   "execution_count": 95,
   "metadata": {},
   "outputs": [
    {
     "data": {
      "text/plain": [
       "(88679, 11)"
      ]
     },
     "execution_count": 95,
     "metadata": {},
     "output_type": "execute_result"
    }
   ],
   "source": [
    "ufo.shape"
   ]
  },
  {
   "cell_type": "code",
   "execution_count": 96,
   "metadata": {},
   "outputs": [
    {
     "data": {
      "text/plain": [
       "array(['datetime', 'city', 'state', 'country', 'shape',\n",
       "       'duration (seconds)', 'duration (hours/min)', 'comments',\n",
       "       'date posted', 'latitude', 'longitude'], dtype=object)"
      ]
     },
     "execution_count": 96,
     "metadata": {},
     "output_type": "execute_result"
    }
   ],
   "source": [
    "ufo.columns.values"
   ]
  },
  {
   "cell_type": "markdown",
   "metadata": {},
   "source": [
    "missing values : "
   ]
  },
  {
   "cell_type": "code",
   "execution_count": 97,
   "metadata": {},
   "outputs": [
    {
     "data": {
      "text/plain": [
       "datetime                    0\n",
       "city                        0\n",
       "state                    7409\n",
       "country                 12365\n",
       "shape                    2922\n",
       "duration (seconds)          2\n",
       "duration (hours/min)     3019\n",
       "comments                   35\n",
       "date posted                 0\n",
       "latitude                    0\n",
       "longitude                   0\n",
       "dtype: int64"
      ]
     },
     "execution_count": 97,
     "metadata": {},
     "output_type": "execute_result"
    }
   ],
   "source": [
    "ufo.isnull().sum()"
   ]
  },
  {
   "cell_type": "markdown",
   "metadata": {},
   "source": [
    "let's fill some missing values :"
   ]
  },
  {
   "cell_type": "code",
   "execution_count": 98,
   "metadata": {},
   "outputs": [],
   "source": [
    "ufo['state'].fillna('unknown', inplace=True)"
   ]
  },
  {
   "cell_type": "code",
   "execution_count": 99,
   "metadata": {},
   "outputs": [],
   "source": [
    "ufo['country'].fillna('unknown', inplace=True)"
   ]
  },
  {
   "cell_type": "code",
   "execution_count": 100,
   "metadata": {},
   "outputs": [],
   "source": [
    "ufo['shape'].fillna('unknown', inplace=True)"
   ]
  },
  {
   "cell_type": "code",
   "execution_count": 101,
   "metadata": {},
   "outputs": [],
   "source": [
    "from pandas.api.types import is_string_dtype"
   ]
  },
  {
   "cell_type": "code",
   "execution_count": 102,
   "metadata": {},
   "outputs": [
    {
     "data": {
      "text/plain": [
       "True"
      ]
     },
     "execution_count": 102,
     "metadata": {},
     "output_type": "execute_result"
    }
   ],
   "source": [
    "is_string_dtype(ufo['duration (seconds)'])"
   ]
  },
  {
   "cell_type": "markdown",
   "metadata": {},
   "source": [
    "trying to convert to float our string feature, but getting ValueError"
   ]
  },
  {
   "cell_type": "code",
   "execution_count": 103,
   "metadata": {
    "scrolled": true
   },
   "outputs": [],
   "source": [
    "#ufo['duration (seconds)'].astype(float)"
   ]
  },
  {
   "cell_type": "markdown",
   "metadata": {},
   "source": [
    "let's go through the chars in this feature to find out if we have many such typos :"
   ]
  },
  {
   "cell_type": "code",
   "execution_count": null,
   "metadata": {},
   "outputs": [],
   "source": []
  },
  {
   "cell_type": "code",
   "execution_count": 104,
   "metadata": {},
   "outputs": [],
   "source": [
    "# ufo['duration (seconds)'] = ufo['duration (seconds)'].astype(str)"
   ]
  },
  {
   "cell_type": "code",
   "execution_count": 105,
   "metadata": {
    "scrolled": true
   },
   "outputs": [
    {
     "name": "stdout",
     "output_type": "stream",
     "text": [
      "[(30821, '2`'), (39519, '8`'), (45585, '2631600  '), (45585, '2631600  '), (64974, '0.5`')]\n"
     ]
    }
   ],
   "source": [
    "typos = []\n",
    "row_counter = 0\n",
    "for el in ufo['duration (seconds)']:\n",
    "    if type(el) == float:\n",
    "        continue\n",
    "    for char in el:\n",
    "        if char.isnumeric() or char == '.' or char in 'nan':\n",
    "            continue\n",
    "        else:\n",
    "            typos.append((row_counter, el))\n",
    "    row_counter += 1\n",
    "print(typos)\n",
    "    \n",
    "    \n",
    "    \n",
    "    "
   ]
  },
  {
   "cell_type": "code",
   "execution_count": null,
   "metadata": {},
   "outputs": [],
   "source": [
    "d = {30821: \"2\", 39519: \"8\", 45585: \"2631600\",  }"
   ]
  },
  {
   "cell_type": "code",
   "execution_count": 106,
   "metadata": {},
   "outputs": [
    {
     "name": "stdout",
     "output_type": "stream",
     "text": [
      "2`\n",
      "2\n",
      "2\n",
      "8`\n",
      "8\n",
      "8\n",
      "3600\n",
      "2631600\n",
      "2631600\n",
      "2631600\n",
      "2631600\n",
      "2631600\n",
      "3\n",
      "0.5\n",
      "0.5\n"
     ]
    }
   ],
   "source": [
    "for el in typos:\n",
    "    new_value = \"\"\n",
    "    print(ufo.loc[el[0], 'duration (seconds)'])\n",
    "    for char in el[1]:\n",
    "        if char == \"`\" or char == \" \":\n",
    "            continue\n",
    "        else:\n",
    "            new_value += char\n",
    "    print(new_value)\n",
    "    ufo.loc[el[0], 'duration (seconds)'] = new_value\n",
    "    print(ufo.loc[el[0], 'duration (seconds)'])"
   ]
  },
  {
   "cell_type": "code",
   "execution_count": 87,
   "metadata": {},
   "outputs": [
    {
     "data": {
      "text/plain": [
       "2"
      ]
     },
     "execution_count": 87,
     "metadata": {},
     "output_type": "execute_result"
    }
   ],
   "source": [
    "ufo['duration (seconds)'].isnull().sum()"
   ]
  },
  {
   "cell_type": "code",
   "execution_count": 89,
   "metadata": {},
   "outputs": [
    {
     "name": "stdout",
     "output_type": "stream",
     "text": [
      "[(45585, '2631600  '), (45585, '2631600  '), (64974, '0.5`')]\n"
     ]
    }
   ],
   "source": [
    "typos = []\n",
    "row_counter = 0\n",
    "for el in ufo['duration (seconds)']:\n",
    "    if type(el) == float:\n",
    "        continue\n",
    "    for char in el:\n",
    "        if char.isnumeric() or char == '.' or char in 'nan':\n",
    "            continue\n",
    "        else:\n",
    "            typos.append((row_counter, el))\n",
    "    row_counter += 1\n",
    "print(typos)\n",
    "    \n",
    "    "
   ]
  },
  {
   "cell_type": "code",
   "execution_count": 88,
   "metadata": {},
   "outputs": [
    {
     "ename": "TypeError",
     "evalue": "could not convert string to float: '0.5`'",
     "output_type": "error",
     "traceback": [
      "\u001b[1;31m---------------------------------------------------------------------------\u001b[0m",
      "\u001b[1;31mValueError\u001b[0m                                Traceback (most recent call last)",
      "\u001b[1;32mC:\\Anaconda\\lib\\site-packages\\pandas\\core\\nanops.py\u001b[0m in \u001b[0;36mf\u001b[1;34m(values, axis, skipna, **kwds)\u001b[0m\n\u001b[0;32m    127\u001b[0m                 \u001b[1;32melse\u001b[0m\u001b[1;33m:\u001b[0m\u001b[1;33m\u001b[0m\u001b[0m\n\u001b[1;32m--> 128\u001b[1;33m                     \u001b[0mresult\u001b[0m \u001b[1;33m=\u001b[0m \u001b[0malt\u001b[0m\u001b[1;33m(\u001b[0m\u001b[0mvalues\u001b[0m\u001b[1;33m,\u001b[0m \u001b[0maxis\u001b[0m\u001b[1;33m=\u001b[0m\u001b[0maxis\u001b[0m\u001b[1;33m,\u001b[0m \u001b[0mskipna\u001b[0m\u001b[1;33m=\u001b[0m\u001b[0mskipna\u001b[0m\u001b[1;33m,\u001b[0m \u001b[1;33m**\u001b[0m\u001b[0mkwds\u001b[0m\u001b[1;33m)\u001b[0m\u001b[1;33m\u001b[0m\u001b[0m\n\u001b[0m\u001b[0;32m    129\u001b[0m             \u001b[1;32mexcept\u001b[0m \u001b[0mException\u001b[0m\u001b[1;33m:\u001b[0m\u001b[1;33m\u001b[0m\u001b[0m\n",
      "\u001b[1;32mC:\\Anaconda\\lib\\site-packages\\pandas\\core\\nanops.py\u001b[0m in \u001b[0;36mnanmedian\u001b[1;34m(values, axis, skipna)\u001b[0m\n\u001b[0;32m    379\u001b[0m     \u001b[1;32mif\u001b[0m \u001b[1;32mnot\u001b[0m \u001b[0mis_float_dtype\u001b[0m\u001b[1;33m(\u001b[0m\u001b[0mvalues\u001b[0m\u001b[1;33m)\u001b[0m\u001b[1;33m:\u001b[0m\u001b[1;33m\u001b[0m\u001b[0m\n\u001b[1;32m--> 380\u001b[1;33m         \u001b[0mvalues\u001b[0m \u001b[1;33m=\u001b[0m \u001b[0mvalues\u001b[0m\u001b[1;33m.\u001b[0m\u001b[0mastype\u001b[0m\u001b[1;33m(\u001b[0m\u001b[1;34m'f8'\u001b[0m\u001b[1;33m)\u001b[0m\u001b[1;33m\u001b[0m\u001b[0m\n\u001b[0m\u001b[0;32m    381\u001b[0m         \u001b[0mvalues\u001b[0m\u001b[1;33m[\u001b[0m\u001b[0mmask\u001b[0m\u001b[1;33m]\u001b[0m \u001b[1;33m=\u001b[0m \u001b[0mnp\u001b[0m\u001b[1;33m.\u001b[0m\u001b[0mnan\u001b[0m\u001b[1;33m\u001b[0m\u001b[0m\n",
      "\u001b[1;31mValueError\u001b[0m: could not convert string to float: '0.5`'",
      "\nDuring handling of the above exception, another exception occurred:\n",
      "\u001b[1;31mValueError\u001b[0m                                Traceback (most recent call last)",
      "\u001b[1;32mC:\\Anaconda\\lib\\site-packages\\pandas\\core\\nanops.py\u001b[0m in \u001b[0;36mf\u001b[1;34m(values, axis, skipna, **kwds)\u001b[0m\n\u001b[0;32m    130\u001b[0m                 \u001b[1;32mtry\u001b[0m\u001b[1;33m:\u001b[0m\u001b[1;33m\u001b[0m\u001b[0m\n\u001b[1;32m--> 131\u001b[1;33m                     \u001b[0mresult\u001b[0m \u001b[1;33m=\u001b[0m \u001b[0malt\u001b[0m\u001b[1;33m(\u001b[0m\u001b[0mvalues\u001b[0m\u001b[1;33m,\u001b[0m \u001b[0maxis\u001b[0m\u001b[1;33m=\u001b[0m\u001b[0maxis\u001b[0m\u001b[1;33m,\u001b[0m \u001b[0mskipna\u001b[0m\u001b[1;33m=\u001b[0m\u001b[0mskipna\u001b[0m\u001b[1;33m,\u001b[0m \u001b[1;33m**\u001b[0m\u001b[0mkwds\u001b[0m\u001b[1;33m)\u001b[0m\u001b[1;33m\u001b[0m\u001b[0m\n\u001b[0m\u001b[0;32m    132\u001b[0m                 \u001b[1;32mexcept\u001b[0m \u001b[0mValueError\u001b[0m \u001b[1;32mas\u001b[0m \u001b[0me\u001b[0m\u001b[1;33m:\u001b[0m\u001b[1;33m\u001b[0m\u001b[0m\n",
      "\u001b[1;32mC:\\Anaconda\\lib\\site-packages\\pandas\\core\\nanops.py\u001b[0m in \u001b[0;36mnanmedian\u001b[1;34m(values, axis, skipna)\u001b[0m\n\u001b[0;32m    379\u001b[0m     \u001b[1;32mif\u001b[0m \u001b[1;32mnot\u001b[0m \u001b[0mis_float_dtype\u001b[0m\u001b[1;33m(\u001b[0m\u001b[0mvalues\u001b[0m\u001b[1;33m)\u001b[0m\u001b[1;33m:\u001b[0m\u001b[1;33m\u001b[0m\u001b[0m\n\u001b[1;32m--> 380\u001b[1;33m         \u001b[0mvalues\u001b[0m \u001b[1;33m=\u001b[0m \u001b[0mvalues\u001b[0m\u001b[1;33m.\u001b[0m\u001b[0mastype\u001b[0m\u001b[1;33m(\u001b[0m\u001b[1;34m'f8'\u001b[0m\u001b[1;33m)\u001b[0m\u001b[1;33m\u001b[0m\u001b[0m\n\u001b[0m\u001b[0;32m    381\u001b[0m         \u001b[0mvalues\u001b[0m\u001b[1;33m[\u001b[0m\u001b[0mmask\u001b[0m\u001b[1;33m]\u001b[0m \u001b[1;33m=\u001b[0m \u001b[0mnp\u001b[0m\u001b[1;33m.\u001b[0m\u001b[0mnan\u001b[0m\u001b[1;33m\u001b[0m\u001b[0m\n",
      "\u001b[1;31mValueError\u001b[0m: could not convert string to float: '0.5`'",
      "\nDuring handling of the above exception, another exception occurred:\n",
      "\u001b[1;31mTypeError\u001b[0m                                 Traceback (most recent call last)",
      "\u001b[1;32m<ipython-input-88-7f4bdad20388>\u001b[0m in \u001b[0;36m<module>\u001b[1;34m()\u001b[0m\n\u001b[1;32m----> 1\u001b[1;33m \u001b[0mufo\u001b[0m\u001b[1;33m[\u001b[0m\u001b[1;34m'duration (seconds)'\u001b[0m\u001b[1;33m]\u001b[0m\u001b[1;33m.\u001b[0m\u001b[0mfillna\u001b[0m\u001b[1;33m(\u001b[0m\u001b[0mufo\u001b[0m\u001b[1;33m[\u001b[0m\u001b[1;34m'duration (seconds)'\u001b[0m\u001b[1;33m]\u001b[0m\u001b[1;33m.\u001b[0m\u001b[0mdropna\u001b[0m\u001b[1;33m(\u001b[0m\u001b[1;33m)\u001b[0m\u001b[1;33m.\u001b[0m\u001b[0mmedian\u001b[0m\u001b[1;33m(\u001b[0m\u001b[1;33m)\u001b[0m\u001b[1;33m,\u001b[0m \u001b[0minplace\u001b[0m\u001b[1;33m=\u001b[0m\u001b[1;32mTrue\u001b[0m\u001b[1;33m)\u001b[0m\u001b[1;33m\u001b[0m\u001b[0m\n\u001b[0m",
      "\u001b[1;32mC:\\Anaconda\\lib\\site-packages\\pandas\\core\\generic.py\u001b[0m in \u001b[0;36mstat_func\u001b[1;34m(self, axis, skipna, level, numeric_only, **kwargs)\u001b[0m\n\u001b[0;32m   9587\u001b[0m                                       skipna=skipna)\n\u001b[0;32m   9588\u001b[0m         return self._reduce(f, name, axis=axis, skipna=skipna,\n\u001b[1;32m-> 9589\u001b[1;33m                             numeric_only=numeric_only)\n\u001b[0m\u001b[0;32m   9590\u001b[0m \u001b[1;33m\u001b[0m\u001b[0m\n\u001b[0;32m   9591\u001b[0m     \u001b[1;32mreturn\u001b[0m \u001b[0mset_function_name\u001b[0m\u001b[1;33m(\u001b[0m\u001b[0mstat_func\u001b[0m\u001b[1;33m,\u001b[0m \u001b[0mname\u001b[0m\u001b[1;33m,\u001b[0m \u001b[0mcls\u001b[0m\u001b[1;33m)\u001b[0m\u001b[1;33m\u001b[0m\u001b[0m\n",
      "\u001b[1;32mC:\\Anaconda\\lib\\site-packages\\pandas\\core\\series.py\u001b[0m in \u001b[0;36m_reduce\u001b[1;34m(self, op, name, axis, skipna, numeric_only, filter_type, **kwds)\u001b[0m\n\u001b[0;32m   3216\u001b[0m                                           'numeric_only.'.format(name))\n\u001b[0;32m   3217\u001b[0m             \u001b[1;32mwith\u001b[0m \u001b[0mnp\u001b[0m\u001b[1;33m.\u001b[0m\u001b[0merrstate\u001b[0m\u001b[1;33m(\u001b[0m\u001b[0mall\u001b[0m\u001b[1;33m=\u001b[0m\u001b[1;34m'ignore'\u001b[0m\u001b[1;33m)\u001b[0m\u001b[1;33m:\u001b[0m\u001b[1;33m\u001b[0m\u001b[0m\n\u001b[1;32m-> 3218\u001b[1;33m                 \u001b[1;32mreturn\u001b[0m \u001b[0mop\u001b[0m\u001b[1;33m(\u001b[0m\u001b[0mdelegate\u001b[0m\u001b[1;33m,\u001b[0m \u001b[0mskipna\u001b[0m\u001b[1;33m=\u001b[0m\u001b[0mskipna\u001b[0m\u001b[1;33m,\u001b[0m \u001b[1;33m**\u001b[0m\u001b[0mkwds\u001b[0m\u001b[1;33m)\u001b[0m\u001b[1;33m\u001b[0m\u001b[0m\n\u001b[0m\u001b[0;32m   3219\u001b[0m \u001b[1;33m\u001b[0m\u001b[0m\n\u001b[0;32m   3220\u001b[0m         return delegate._reduce(op=op, name=name, axis=axis, skipna=skipna,\n",
      "\u001b[1;32mC:\\Anaconda\\lib\\site-packages\\pandas\\core\\nanops.py\u001b[0m in \u001b[0;36m_f\u001b[1;34m(*args, **kwargs)\u001b[0m\n\u001b[0;32m     75\u001b[0m             \u001b[1;32mtry\u001b[0m\u001b[1;33m:\u001b[0m\u001b[1;33m\u001b[0m\u001b[0m\n\u001b[0;32m     76\u001b[0m                 \u001b[1;32mwith\u001b[0m \u001b[0mnp\u001b[0m\u001b[1;33m.\u001b[0m\u001b[0merrstate\u001b[0m\u001b[1;33m(\u001b[0m\u001b[0minvalid\u001b[0m\u001b[1;33m=\u001b[0m\u001b[1;34m'ignore'\u001b[0m\u001b[1;33m)\u001b[0m\u001b[1;33m:\u001b[0m\u001b[1;33m\u001b[0m\u001b[0m\n\u001b[1;32m---> 77\u001b[1;33m                     \u001b[1;32mreturn\u001b[0m \u001b[0mf\u001b[0m\u001b[1;33m(\u001b[0m\u001b[1;33m*\u001b[0m\u001b[0margs\u001b[0m\u001b[1;33m,\u001b[0m \u001b[1;33m**\u001b[0m\u001b[0mkwargs\u001b[0m\u001b[1;33m)\u001b[0m\u001b[1;33m\u001b[0m\u001b[0m\n\u001b[0m\u001b[0;32m     78\u001b[0m             \u001b[1;32mexcept\u001b[0m \u001b[0mValueError\u001b[0m \u001b[1;32mas\u001b[0m \u001b[0me\u001b[0m\u001b[1;33m:\u001b[0m\u001b[1;33m\u001b[0m\u001b[0m\n\u001b[0;32m     79\u001b[0m                 \u001b[1;31m# we want to transform an object array\u001b[0m\u001b[1;33m\u001b[0m\u001b[1;33m\u001b[0m\u001b[0m\n",
      "\u001b[1;32mC:\\Anaconda\\lib\\site-packages\\pandas\\core\\nanops.py\u001b[0m in \u001b[0;36mf\u001b[1;34m(values, axis, skipna, **kwds)\u001b[0m\n\u001b[0;32m    137\u001b[0m \u001b[1;33m\u001b[0m\u001b[0m\n\u001b[0;32m    138\u001b[0m                     \u001b[1;32mif\u001b[0m \u001b[0mis_object_dtype\u001b[0m\u001b[1;33m(\u001b[0m\u001b[0mvalues\u001b[0m\u001b[1;33m)\u001b[0m\u001b[1;33m:\u001b[0m\u001b[1;33m\u001b[0m\u001b[0m\n\u001b[1;32m--> 139\u001b[1;33m                         \u001b[1;32mraise\u001b[0m \u001b[0mTypeError\u001b[0m\u001b[1;33m(\u001b[0m\u001b[0me\u001b[0m\u001b[1;33m)\u001b[0m\u001b[1;33m\u001b[0m\u001b[0m\n\u001b[0m\u001b[0;32m    140\u001b[0m                     \u001b[1;32mraise\u001b[0m\u001b[1;33m\u001b[0m\u001b[0m\n\u001b[0;32m    141\u001b[0m \u001b[1;33m\u001b[0m\u001b[0m\n",
      "\u001b[1;31mTypeError\u001b[0m: could not convert string to float: '0.5`'"
     ]
    }
   ],
   "source": [
    "ufo['duration (seconds)'].fillna(ufo['duration (seconds)'].dropna().median(), inplace=True)"
   ]
  },
  {
   "cell_type": "code",
   "execution_count": null,
   "metadata": {},
   "outputs": [],
   "source": []
  },
  {
   "cell_type": "code",
   "execution_count": null,
   "metadata": {},
   "outputs": [],
   "source": []
  },
  {
   "cell_type": "code",
   "execution_count": 71,
   "metadata": {},
   "outputs": [
    {
     "ename": "ValueError",
     "evalue": "Must specify a fill 'value' or 'method'.",
     "output_type": "error",
     "traceback": [
      "\u001b[1;31m---------------------------------------------------------------------------\u001b[0m",
      "\u001b[1;31mValueError\u001b[0m                                Traceback (most recent call last)",
      "\u001b[1;32m<ipython-input-71-87f028476ae4>\u001b[0m in \u001b[0;36m<module>\u001b[1;34m()\u001b[0m\n\u001b[1;32m----> 1\u001b[1;33m \u001b[0mufo\u001b[0m\u001b[1;33m[\u001b[0m\u001b[1;34m'duration (seconds)'\u001b[0m\u001b[1;33m]\u001b[0m\u001b[1;33m.\u001b[0m\u001b[0mfillna\u001b[0m\u001b[1;33m(\u001b[0m\u001b[1;33m)\u001b[0m\u001b[1;33m.\u001b[0m\u001b[0mmode\u001b[0m\u001b[1;33m(\u001b[0m\u001b[1;33m)\u001b[0m\u001b[1;33m\u001b[0m\u001b[0m\n\u001b[0m",
      "\u001b[1;32mC:\\Anaconda\\lib\\site-packages\\pandas\\core\\series.py\u001b[0m in \u001b[0;36mfillna\u001b[1;34m(self, value, method, axis, inplace, limit, downcast, **kwargs)\u001b[0m\n\u001b[0;32m   3420\u001b[0m                                           \u001b[0maxis\u001b[0m\u001b[1;33m=\u001b[0m\u001b[0maxis\u001b[0m\u001b[1;33m,\u001b[0m \u001b[0minplace\u001b[0m\u001b[1;33m=\u001b[0m\u001b[0minplace\u001b[0m\u001b[1;33m,\u001b[0m\u001b[1;33m\u001b[0m\u001b[0m\n\u001b[0;32m   3421\u001b[0m                                           \u001b[0mlimit\u001b[0m\u001b[1;33m=\u001b[0m\u001b[0mlimit\u001b[0m\u001b[1;33m,\u001b[0m \u001b[0mdowncast\u001b[0m\u001b[1;33m=\u001b[0m\u001b[0mdowncast\u001b[0m\u001b[1;33m,\u001b[0m\u001b[1;33m\u001b[0m\u001b[0m\n\u001b[1;32m-> 3422\u001b[1;33m                                           **kwargs)\n\u001b[0m\u001b[0;32m   3423\u001b[0m \u001b[1;33m\u001b[0m\u001b[0m\n\u001b[0;32m   3424\u001b[0m     \u001b[1;33m@\u001b[0m\u001b[0mAppender\u001b[0m\u001b[1;33m(\u001b[0m\u001b[0mgeneric\u001b[0m\u001b[1;33m.\u001b[0m\u001b[0m_shared_docs\u001b[0m\u001b[1;33m[\u001b[0m\u001b[1;34m'replace'\u001b[0m\u001b[1;33m]\u001b[0m \u001b[1;33m%\u001b[0m \u001b[0m_shared_doc_kwargs\u001b[0m\u001b[1;33m)\u001b[0m\u001b[1;33m\u001b[0m\u001b[0m\n",
      "\u001b[1;32mC:\\Anaconda\\lib\\site-packages\\pandas\\core\\generic.py\u001b[0m in \u001b[0;36mfillna\u001b[1;34m(self, value, method, axis, inplace, limit, downcast)\u001b[0m\n\u001b[0;32m   5342\u001b[0m         \"\"\"\n\u001b[0;32m   5343\u001b[0m         \u001b[0minplace\u001b[0m \u001b[1;33m=\u001b[0m \u001b[0mvalidate_bool_kwarg\u001b[0m\u001b[1;33m(\u001b[0m\u001b[0minplace\u001b[0m\u001b[1;33m,\u001b[0m \u001b[1;34m'inplace'\u001b[0m\u001b[1;33m)\u001b[0m\u001b[1;33m\u001b[0m\u001b[0m\n\u001b[1;32m-> 5344\u001b[1;33m         \u001b[0mvalue\u001b[0m\u001b[1;33m,\u001b[0m \u001b[0mmethod\u001b[0m \u001b[1;33m=\u001b[0m \u001b[0mvalidate_fillna_kwargs\u001b[0m\u001b[1;33m(\u001b[0m\u001b[0mvalue\u001b[0m\u001b[1;33m,\u001b[0m \u001b[0mmethod\u001b[0m\u001b[1;33m)\u001b[0m\u001b[1;33m\u001b[0m\u001b[0m\n\u001b[0m\u001b[0;32m   5345\u001b[0m \u001b[1;33m\u001b[0m\u001b[0m\n\u001b[0;32m   5346\u001b[0m         \u001b[0mself\u001b[0m\u001b[1;33m.\u001b[0m\u001b[0m_consolidate_inplace\u001b[0m\u001b[1;33m(\u001b[0m\u001b[1;33m)\u001b[0m\u001b[1;33m\u001b[0m\u001b[0m\n",
      "\u001b[1;32mC:\\Anaconda\\lib\\site-packages\\pandas\\util\\_validators.py\u001b[0m in \u001b[0;36mvalidate_fillna_kwargs\u001b[1;34m(value, method, validate_scalar_dict_value)\u001b[0m\n\u001b[0;32m    344\u001b[0m \u001b[1;33m\u001b[0m\u001b[0m\n\u001b[0;32m    345\u001b[0m     \u001b[1;32mif\u001b[0m \u001b[0mvalue\u001b[0m \u001b[1;32mis\u001b[0m \u001b[1;32mNone\u001b[0m \u001b[1;32mand\u001b[0m \u001b[0mmethod\u001b[0m \u001b[1;32mis\u001b[0m \u001b[1;32mNone\u001b[0m\u001b[1;33m:\u001b[0m\u001b[1;33m\u001b[0m\u001b[0m\n\u001b[1;32m--> 346\u001b[1;33m         \u001b[1;32mraise\u001b[0m \u001b[0mValueError\u001b[0m\u001b[1;33m(\u001b[0m\u001b[1;34m\"Must specify a fill 'value' or 'method'.\"\u001b[0m\u001b[1;33m)\u001b[0m\u001b[1;33m\u001b[0m\u001b[0m\n\u001b[0m\u001b[0;32m    347\u001b[0m     \u001b[1;32melif\u001b[0m \u001b[0mvalue\u001b[0m \u001b[1;32mis\u001b[0m \u001b[1;32mNone\u001b[0m \u001b[1;32mand\u001b[0m \u001b[0mmethod\u001b[0m \u001b[1;32mis\u001b[0m \u001b[1;32mnot\u001b[0m \u001b[1;32mNone\u001b[0m\u001b[1;33m:\u001b[0m\u001b[1;33m\u001b[0m\u001b[0m\n\u001b[0;32m    348\u001b[0m         \u001b[0mmethod\u001b[0m \u001b[1;33m=\u001b[0m \u001b[0mclean_fill_method\u001b[0m\u001b[1;33m(\u001b[0m\u001b[0mmethod\u001b[0m\u001b[1;33m)\u001b[0m\u001b[1;33m\u001b[0m\u001b[0m\n",
      "\u001b[1;31mValueError\u001b[0m: Must specify a fill 'value' or 'method'."
     ]
    }
   ],
   "source": [
    "test_df['Fare'].fillna(test_df['Fare'].dropna().median(), inplace=True)a"
   ]
  },
  {
   "cell_type": "code",
   "execution_count": null,
   "metadata": {},
   "outputs": [],
   "source": []
  },
  {
   "cell_type": "code",
   "execution_count": null,
   "metadata": {},
   "outputs": [],
   "source": []
  },
  {
   "cell_type": "code",
   "execution_count": null,
   "metadata": {},
   "outputs": [],
   "source": []
  },
  {
   "cell_type": "code",
   "execution_count": null,
   "metadata": {},
   "outputs": [],
   "source": []
  },
  {
   "cell_type": "code",
   "execution_count": 51,
   "metadata": {},
   "outputs": [],
   "source": [
    "ufo['duration (seconds)'].fillna(float, inplace=True)"
   ]
  },
  {
   "cell_type": "code",
   "execution_count": 52,
   "metadata": {},
   "outputs": [
    {
     "data": {
      "text/plain": [
       "0"
      ]
     },
     "execution_count": 52,
     "metadata": {},
     "output_type": "execute_result"
    }
   ],
   "source": []
  },
  {
   "cell_type": "code",
   "execution_count": null,
   "metadata": {},
   "outputs": [],
   "source": []
  },
  {
   "cell_type": "code",
   "execution_count": null,
   "metadata": {},
   "outputs": [],
   "source": []
  },
  {
   "cell_type": "code",
   "execution_count": 32,
   "metadata": {},
   "outputs": [
    {
     "data": {
      "text/plain": [
       "0    300\n",
       "dtype: object"
      ]
     },
     "execution_count": 32,
     "metadata": {},
     "output_type": "execute_result"
    }
   ],
   "source": [
    "ufo['duration (seconds)'].mode()"
   ]
  },
  {
   "cell_type": "code",
   "execution_count": null,
   "metadata": {},
   "outputs": [],
   "source": [
    "ufo.iloc[30821, :]"
   ]
  },
  {
   "cell_type": "code",
   "execution_count": null,
   "metadata": {},
   "outputs": [],
   "source": []
  },
  {
   "cell_type": "code",
   "execution_count": null,
   "metadata": {},
   "outputs": [],
   "source": []
  },
  {
   "cell_type": "code",
   "execution_count": null,
   "metadata": {},
   "outputs": [],
   "source": []
  },
  {
   "cell_type": "code",
   "execution_count": null,
   "metadata": {},
   "outputs": [],
   "source": []
  },
  {
   "cell_type": "code",
   "execution_count": null,
   "metadata": {},
   "outputs": [],
   "source": []
  },
  {
   "cell_type": "code",
   "execution_count": null,
   "metadata": {},
   "outputs": [],
   "source": [
    "\n",
    "for el in ufo['duration (seconds)']:\n",
    "    for char in el:\n",
    "        if char.isnumeric() or char == '.' or char in 'nan':\n",
    "            continue\n",
    "        else:\n",
    "            typos.append((row_counter, el))\n",
    "            "
   ]
  },
  {
   "cell_type": "code",
   "execution_count": null,
   "metadata": {},
   "outputs": [],
   "source": []
  },
  {
   "cell_type": "code",
   "execution_count": null,
   "metadata": {},
   "outputs": [],
   "source": []
  },
  {
   "cell_type": "code",
   "execution_count": null,
   "metadata": {},
   "outputs": [],
   "source": [
    "typos = [x for x in typos if x[1] != 'nan']\n",
    "typos"
   ]
  },
  {
   "cell_type": "code",
   "execution_count": null,
   "metadata": {},
   "outputs": [],
   "source": [
    "ufo.head()"
   ]
  },
  {
   "cell_type": "code",
   "execution_count": null,
   "metadata": {},
   "outputs": [],
   "source": [
    "pd.to_numeric(ufo.index)"
   ]
  },
  {
   "cell_type": "code",
   "execution_count": null,
   "metadata": {},
   "outputs": [],
   "source": []
  },
  {
   "cell_type": "code",
   "execution_count": null,
   "metadata": {},
   "outputs": [],
   "source": []
  },
  {
   "cell_type": "code",
   "execution_count": null,
   "metadata": {},
   "outputs": [],
   "source": [
    "for el in typos:\n",
    "    entry = ufo.loc[el[0] + 1, 'duration (seconds)']\n",
    "    print(entry)\n",
    "    \n",
    "    \n",
    "    \n",
    "    "
   ]
  },
  {
   "cell_type": "code",
   "execution_count": null,
   "metadata": {},
   "outputs": [],
   "source": []
  },
  {
   "cell_type": "code",
   "execution_count": null,
   "metadata": {},
   "outputs": [],
   "source": []
  },
  {
   "cell_type": "code",
   "execution_count": null,
   "metadata": {},
   "outputs": [],
   "source": []
  },
  {
   "cell_type": "code",
   "execution_count": null,
   "metadata": {},
   "outputs": [],
   "source": []
  },
  {
   "cell_type": "code",
   "execution_count": null,
   "metadata": {},
   "outputs": [],
   "source": []
  },
  {
   "cell_type": "code",
   "execution_count": null,
   "metadata": {},
   "outputs": [],
   "source": []
  },
  {
   "cell_type": "code",
   "execution_count": null,
   "metadata": {},
   "outputs": [],
   "source": []
  },
  {
   "cell_type": "code",
   "execution_count": null,
   "metadata": {},
   "outputs": [],
   "source": []
  },
  {
   "cell_type": "code",
   "execution_count": null,
   "metadata": {},
   "outputs": [],
   "source": []
  },
  {
   "cell_type": "code",
   "execution_count": null,
   "metadata": {},
   "outputs": [],
   "source": []
  },
  {
   "cell_type": "code",
   "execution_count": null,
   "metadata": {},
   "outputs": [],
   "source": []
  },
  {
   "cell_type": "code",
   "execution_count": null,
   "metadata": {},
   "outputs": [],
   "source": []
  },
  {
   "cell_type": "code",
   "execution_count": null,
   "metadata": {},
   "outputs": [],
   "source": []
  },
  {
   "cell_type": "code",
   "execution_count": null,
   "metadata": {},
   "outputs": [],
   "source": []
  },
  {
   "cell_type": "code",
   "execution_count": null,
   "metadata": {},
   "outputs": [],
   "source": []
  },
  {
   "cell_type": "code",
   "execution_count": null,
   "metadata": {},
   "outputs": [],
   "source": []
  },
  {
   "cell_type": "code",
   "execution_count": null,
   "metadata": {},
   "outputs": [],
   "source": []
  },
  {
   "cell_type": "code",
   "execution_count": null,
   "metadata": {},
   "outputs": [],
   "source": [
    "ufo['duration (seconds)'].mode()"
   ]
  },
  {
   "cell_type": "code",
   "execution_count": null,
   "metadata": {},
   "outputs": [],
   "source": [
    "ufo['duration (seconds)'].mode()"
   ]
  }
 ],
 "metadata": {
  "kernelspec": {
   "display_name": "Python 3",
   "language": "python",
   "name": "python3"
  },
  "language_info": {
   "codemirror_mode": {
    "name": "ipython",
    "version": 3
   },
   "file_extension": ".py",
   "mimetype": "text/x-python",
   "name": "python",
   "nbconvert_exporter": "python",
   "pygments_lexer": "ipython3",
   "version": "3.6.5"
  }
 },
 "nbformat": 4,
 "nbformat_minor": 2
}
